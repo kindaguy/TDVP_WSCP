{
 "cells": [
  {
   "cell_type": "code",
   "execution_count": 1,
   "metadata": {},
   "outputs": [],
   "source": [
    "using ITensors\n",
    "#import KrylovKit \n",
    "#using KrylovKit\n",
    "include(\"TamaTimeEvoMPS/src/TimeEvoMPS.jl\")\n",
    "using .TimeEvoMPS"
   ]
  },
  {
   "cell_type": "code",
   "execution_count": 2,
   "metadata": {},
   "outputs": [
    {
     "data": {
      "text/plain": [
       "138.0"
      ]
     },
     "metadata": {},
     "output_type": "display_data"
    }
   ],
   "source": [
    "using DelimitedFiles\n",
    "coups = readdlm(\"Chain_mappings/WSCP_MC_T0_coups.dat\");\n",
    "freqs = readdlm(\"Chain_mappings/WSCP_MC_T0_freqs.dat\");\n",
    "#system energy gap\n",
    "eps = 138."
   ]
  },
  {
   "cell_type": "code",
   "execution_count": 3,
   "metadata": {},
   "outputs": [],
   "source": [
    "sys = siteinds(\"S=1/2\",1);\n",
    "NChain = 86;\n",
    "env = siteinds(\"Boson\", dim=6, NChain);\n",
    "NN = NChain + 1;\n",
    "sysenv = vcat(sys,env);"
   ]
  },
  {
   "cell_type": "code",
   "execution_count": 4,
   "metadata": {},
   "outputs": [],
   "source": [
    "stateSys = [\"Up\"];\n",
    "stateEnv = [\"0\" for n=1:NChain];\n",
    "stateSE = vcat(stateSys,stateEnv);\n",
    "psi0 = productMPS(sysenv,stateSE);"
   ]
  },
  {
   "cell_type": "code",
   "execution_count": 5,
   "metadata": {},
   "outputs": [
    {
     "data": {
      "text/plain": [
       "87"
      ]
     },
     "metadata": {},
     "output_type": "display_data"
    }
   ],
   "source": [
    "length(sysenv)"
   ]
  },
  {
   "cell_type": "markdown",
   "metadata": {},
   "source": [
    "We define a trivial Hamiltonian to use as to set the initial bond dimension of the MPS to the desired size (mindim)"
   ]
  },
  {
   "cell_type": "code",
   "execution_count": 6,
   "metadata": {},
   "outputs": [],
   "source": [
    "# #Lavoriamo qui\n",
    "# ampo = OpSum()\n",
    "# #system Hamiltonian\n",
    "\n",
    "# for j=1:length(sysenv)\n",
    "#    ampo += 0.001, \"Id\",j\n",
    "# end\n",
    "# H = MPO(ampo,sysenv); \n",
    "wantedDim = 8\n",
    "psiExt = copy(psi0);\n",
    "for n in 1:NN-1\n",
    "   a = commonind(psiExt[n],psiExt[n+1])\n",
    "   tagsa = tags(a)\n",
    "   add_indx = Index(wantedDim, tags= tagsa)\n",
    "   psiExt[n]=psiExt[n]*delta(a,add_indx)\n",
    "   psiExt[n+1]=psiExt[n+1]*delta(a,add_indx)\n",
    "end"
   ]
  },
  {
   "cell_type": "code",
   "execution_count": 7,
   "metadata": {},
   "outputs": [],
   "source": [
    "# appoPsi = copy(psi0);\n",
    "# tdvp!(appoPsi,H,0.00001,0.00001,mindim = 8, maxdim=20, progress=true,cutoff=10e-20)"
   ]
  },
  {
   "cell_type": "code",
   "execution_count": 8,
   "metadata": {},
   "outputs": [
    {
     "data": {
      "text/plain": [
       "1.0"
      ]
     },
     "metadata": {},
     "output_type": "display_data"
    }
   ],
   "source": [
    "# dot(psi0,appoPsi)\n",
    "dot(psi0,psiExt)"
   ]
  },
  {
   "cell_type": "code",
   "execution_count": 9,
   "metadata": {},
   "outputs": [],
   "source": [
    "psi0=copy(psiExt);"
   ]
  },
  {
   "cell_type": "code",
   "execution_count": 10,
   "metadata": {},
   "outputs": [],
   "source": [
    "#asymptotic frequency\n",
    "MC_N = 6;\n",
    "NP_Chain = NN - MC_N;\n",
    "OO = 500.;\n",
    "alphas_MC = readdlm(\"MC_Pars/alphas_6.dat\")\n",
    "betas_MC = readdlm(\"MC_Pars/betas_6.dat\")\n",
    "coups_MC = readdlm(\"MC_Pars/coupls_6.dat\")\n",
    "gammas = OO * alphas_MC[:,1];\n",
    "eff_freq = [OO + 1im * g for g in gammas];\n",
    "eff_gs = OO * betas_MC[:,2];\n",
    "eff_coup = OO/2* (coups_MC[:,1]+ 1im *coups_MC[:,2]);\n",
    "\n",
    "#Definition of the TEDOPA+MC Hamiltonian (MPO form)\n",
    "#Lavoriamo qui\n",
    "ampo = OpSum()\n",
    "#system Hamiltonian\n",
    "ampo += eps,\"Sz\",1;\n",
    "#system-env interaction\n",
    "#!Sx = 0.5 σx\n",
    "ampo += 2*coups[1],\"Sx\",1,\"Adag\",2\n",
    "ampo += 2*coups[1],\"Sx\",1,\"A\",2\n",
    "\n",
    "#Primary chain local Hamiltonians\n",
    "for j=2:NP_Chain\n",
    "   ampo += freqs[j-1],\"N\",j\n",
    "end\n",
    "\n",
    "for j=2:NP_Chain-1\n",
    "   ampo += coups[j],\"A\",j,\"Adag\",j+1\n",
    "   ampo += coups[j],\"Adag\",j,\"A\",j+1\n",
    "end\n",
    "#################################\n",
    "\n",
    "#Markovian closure Hamiltonian\n",
    "for j=1:MC_N\n",
    "   ampo += eff_freq[j],\"N\",NP_Chain+j\n",
    "end\n",
    "\n",
    "for j=1:MC_N-1\n",
    "   ampo += eff_gs[j],\"A\",NP_Chain+j,\"Adag\",NP_Chain+j+1\n",
    "   ampo += eff_gs[j],\"Adag\",NP_Chain+j,\"A\",NP_Chain+j+1\n",
    "end\n",
    "\n",
    "#################################\n",
    "\n",
    "#Primary chain - MC interaction\n",
    "for j=1:MC_N\n",
    "   ampo += eff_coup[j],\"A\",NP_Chain,\"Adag\",NP_Chain+j\n",
    "   ampo += conj(eff_coup[j]),\"Adag\",NP_Chain,\"A\",NP_Chain+j\n",
    "end\n",
    "\n",
    "\n",
    "H = MPO(ampo,sysenv); \n",
    "\n",
    "#Set MPO bond dimensions\n",
    "[dim(linkind(H,j)) for j in 1:length(H)-1];"
   ]
  },
  {
   "cell_type": "code",
   "execution_count": 11,
   "metadata": {},
   "outputs": [
    {
     "data": {
      "text/plain": [
       "81"
      ]
     },
     "metadata": {},
     "output_type": "display_data"
    }
   ],
   "source": [
    "NP_Chain"
   ]
  },
  {
   "cell_type": "code",
   "execution_count": 12,
   "metadata": {},
   "outputs": [
    {
     "data": {
      "text/plain": [
       "Any[]"
      ]
     },
     "metadata": {},
     "output_type": "display_data"
    }
   ],
   "source": [
    "vobs = []\n",
    "# push!(vobs,opPos(\"Sx\",1))\n",
    "# push!(vobs,opPos(\"Sz\",1))\n",
    "# nchain = collect(10:10:10)\n",
    "# for i in nchain \n",
    "#    push!(vobs,opPos(\"N\",i+1))\n",
    "# end"
   ]
  },
  {
   "cell_type": "code",
   "execution_count": 13,
   "metadata": {},
   "outputs": [
    {
     "data": {
      "text/plain": [
       "LocalMeasurementCallback\n",
       "Operators: opPos[]\n",
       "No measurements performed\n"
      ]
     },
     "metadata": {},
     "output_type": "display_data"
    }
   ],
   "source": [
    "psi=deepcopy(psi0)\n",
    "timestep = 0.0001\n",
    "tmax = 0.001\n",
    "cbT = LocalMeasurementCallbackTama(vobs,sysenv,10*timestep)"
   ]
  },
  {
   "cell_type": "code",
   "execution_count": 14,
   "metadata": {},
   "outputs": [
    {
     "data": {
      "text/plain": [
       "1.0"
      ]
     },
     "metadata": {},
     "output_type": "display_data"
    }
   ],
   "source": [
    "norm(psi)"
   ]
  },
  {
   "cell_type": "code",
   "execution_count": 15,
   "metadata": {},
   "outputs": [
    {
     "name": "stderr",
     "output_type": "stream",
     "text": [
      "\r\u001b[32mEvolving state...  20%|██████▋                          |  ETA: 0:01:36\u001b[39m\u001b[K\r\n",
      "\u001b[34m  t:             0.0002\u001b[39m\u001b[K"
     ]
    },
    {
     "name": "stderr",
     "output_type": "stream",
     "text": [
      "\r\n",
      "\u001b[34m  dt step time:  2.829\u001b[39m\u001b[K\r\n",
      "\u001b[34m  Max bond-dim:  8\u001b[39m\u001b[K\r\u001b[A\r\u001b[A\r\u001b[A"
     ]
    },
    {
     "name": "stderr",
     "output_type": "stream",
     "text": [
      "\n",
      "\n",
      "\n",
      "\r\u001b[K\u001b[A\r\u001b[K\u001b[A\r\u001b[K\u001b[A\r\u001b[32mEvolving state...  30%|█████████▉                       |  ETA: 0:01:04\u001b[39m\u001b[K\r\n",
      "\u001b[34m  t:             0.00030000000000000003\u001b[39m\u001b[K\r\n",
      "\u001b[34m  dt step time:  2.875\u001b[39m\u001b[K\r\n",
      "\u001b[34m  Max bond-dim:  8\u001b[39m\u001b[K\r\u001b[A\r\u001b[A\r\u001b[A"
     ]
    },
    {
     "name": "stderr",
     "output_type": "stream",
     "text": [
      "\n",
      "\n",
      "\n",
      "\r\u001b[K\u001b[A\r\u001b[K\u001b[A\r\u001b[K\u001b[A\r\u001b[32mEvolving state...  40%|█████████████▎                   |  ETA: 0:00:45\u001b[39m\u001b[K\r\n",
      "\u001b[34m  t:             0.0004\u001b[39m\u001b[K\r\n",
      "\u001b[34m  dt step time:  2.847\u001b[39m\u001b[K\r\n",
      "\u001b[34m  Max bond-dim:  8\u001b[39m\u001b[K\r\u001b[A\r\u001b[A\r\u001b[A"
     ]
    },
    {
     "name": "stderr",
     "output_type": "stream",
     "text": [
      "\n",
      "\n",
      "\n",
      "\r\u001b[K\u001b[A\r\u001b[K\u001b[A\r\u001b[K\u001b[A\r\u001b[32mEvolving state...  50%|████████████████▌                |  ETA: 0:00:33\u001b[39m\u001b[K\r\n",
      "\u001b[34m  t:             0.0005\u001b[39m\u001b[K\r\n",
      "\u001b[34m  dt step time:  2.975\u001b[39m\u001b[K\r\n",
      "\u001b[34m  Max bond-dim:  8\u001b[39m\u001b[K\r\u001b[A\r\u001b[A\r\u001b[A"
     ]
    },
    {
     "name": "stderr",
     "output_type": "stream",
     "text": [
      "\n",
      "\n",
      "\n",
      "\r\u001b[K\u001b[A\r\u001b[K\u001b[A\r\u001b[K\u001b[A\r\u001b[32mEvolving state...  60%|███████████████████▊             |  ETA: 0:00:24\u001b[39m\u001b[K\r\n",
      "\u001b[34m  t:             0.0006000000000000001\u001b[39m\u001b[K\r\n",
      "\u001b[34m  dt step time:  3.447\u001b[39m\u001b[K\r\n",
      "\u001b[34m  Max bond-dim:  8\u001b[39m\u001b[K\r\u001b[A\r\u001b[A\r\u001b[A"
     ]
    },
    {
     "name": "stderr",
     "output_type": "stream",
     "text": [
      "\n",
      "\n",
      "\n",
      "\r\u001b[K\u001b[A\r\u001b[K\u001b[A\r\u001b[K\u001b[A\r\u001b[32mEvolving state...  70%|███████████████████████▏         |  ETA: 0:00:17\u001b[39m\u001b[K\r\n",
      "\u001b[34m  t:             0.0007\u001b[39m\u001b[K\r\n",
      "\u001b[34m  dt step time:  3.408\u001b[39m\u001b[K\r\n",
      "\u001b[34m  Max bond-dim:  8\u001b[39m\u001b[K\r\u001b[A\r\u001b[A\r\u001b[A"
     ]
    },
    {
     "name": "stderr",
     "output_type": "stream",
     "text": [
      "\n",
      "\n",
      "\n",
      "\r\u001b[K\u001b[A\r\u001b[K\u001b[A\r\u001b[K\u001b[A\r\u001b[32mEvolving state...  80%|██████████████████████████▍      |  ETA: 0:00:11\u001b[39m\u001b[K\r\n",
      "\u001b[34m  t:             0.0008\u001b[39m\u001b[K\r\n",
      "\u001b[34m  dt step time:  3.148\u001b[39m\u001b[K\r\n",
      "\u001b[34m  Max bond-dim:  8\u001b[39m\u001b[K\r\u001b[A\r\u001b[A\r\u001b[A"
     ]
    },
    {
     "name": "stderr",
     "output_type": "stream",
     "text": [
      "\n",
      "\n",
      "\n",
      "\r\u001b[K\u001b[A\r\u001b[K\u001b[A\r\u001b[K\u001b[A\r\u001b[32mEvolving state...  90%|█████████████████████████████▊   |  ETA: 0:00:05\u001b[39m\u001b[K\r\n",
      "\u001b[34m  t:             0.0009000000000000001\u001b[39m\u001b[K\r\n",
      "\u001b[34m  dt step time:  3.152\u001b[39m\u001b[K\r\n",
      "\u001b[34m  Max bond-dim:  8\u001b[39m\u001b[K\r\u001b[A\r\u001b[A\r\u001b[A"
     ]
    },
    {
     "name": "stderr",
     "output_type": "stream",
     "text": [
      "\n",
      "\n",
      "\n",
      "\r\u001b[K\u001b[A\r\u001b[K\u001b[A\r\u001b[K\u001b[A\r\u001b[32mEvolving state... 100%|█████████████████████████████████| Time: 0:00:50\u001b[39m\u001b[K\r\n",
      "\u001b[34m  t:             0.001\u001b[39m\u001b[K\r\n",
      "\u001b[34m  dt step time:  3.574\u001b[39m\u001b[K\r\n",
      "\u001b[34m  Max bond-dim:  8\u001b[39m\u001b[K\n"
     ]
    }
   ],
   "source": [
    "tdvp1!(psi,H,timestep,tmax, ishermitian = false, issymmetric = false,  normalize = false, callback=cbT, progress=true, io_file=\"critico.dat\",store_psi0 = true,io_ranks = \"ranghi.dat\",io_times = \"times.dat\")"
   ]
  },
  {
   "cell_type": "code",
   "execution_count": 16,
   "metadata": {},
   "outputs": [
    {
     "data": {
      "text/plain": [
       "0.9993521446997559 + 1.2570286704335398e-5im"
      ]
     },
     "metadata": {},
     "output_type": "display_data"
    }
   ],
   "source": [
    "dot(psi0,psi)"
   ]
  },
  {
   "cell_type": "markdown",
   "metadata": {},
   "source": [
    "## Plotting"
   ]
  },
  {
   "cell_type": "code",
   "execution_count": null,
   "metadata": {},
   "outputs": [],
   "source": [
    "using PyPlot\n",
    "ts = measurement_ts(cbT)\n",
    "for o in [\"Sx_1\",\"Sz_1\",\"N_10\",\"N_20\"]\n",
    "    S5 = getindex.(measurements(cbT)[\"$o\"],1)\n",
    "    plot(ts,S5,\"-o\",label=\"$o\")\n",
    "end\n",
    "legend()\n",
    "xlabel(\"t\")"
   ]
  },
  {
   "cell_type": "code",
   "execution_count": null,
   "metadata": {},
   "outputs": [],
   "source": [
    "psi[10]"
   ]
  },
  {
   "cell_type": "code",
   "execution_count": null,
   "metadata": {},
   "outputs": [],
   "source": []
  },
  {
   "cell_type": "code",
   "execution_count": null,
   "metadata": {},
   "outputs": [],
   "source": [
    "typeof(io)"
   ]
  },
  {
   "cell_type": "code",
   "execution_count": null,
   "metadata": {},
   "outputs": [],
   "source": [
    "using Printf"
   ]
  },
  {
   "cell_type": "code",
   "execution_count": null,
   "metadata": {},
   "outputs": [],
   "source": [
    "io = open(\"prova_sampa.dat\",\"a\")\n",
    "@printf(io,\"%20s%20s%20s\\n\",\"tempo\",\"ciao\",\"mondo\")\n",
    "@printf(io,\"%20f%20f%20f\\n\",10,20,30)\n",
    "close(io)"
   ]
  },
  {
   "cell_type": "code",
   "execution_count": null,
   "metadata": {},
   "outputs": [],
   "source": []
  },
  {
   "cell_type": "code",
   "execution_count": null,
   "metadata": {},
   "outputs": [],
   "source": []
  }
 ],
 "metadata": {
  "kernelspec": {
   "display_name": "Julia 1.6.2",
   "language": "julia",
   "name": "julia-1.6"
  },
  "language_info": {
   "file_extension": ".jl",
   "mimetype": "application/julia",
   "name": "julia",
   "version": "1.6.2"
  },
  "orig_nbformat": 4
 },
 "nbformat": 4,
 "nbformat_minor": 2
}
