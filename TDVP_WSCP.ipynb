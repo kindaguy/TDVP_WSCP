{
 "cells": [
  {
   "cell_type": "code",
   "execution_count": 1,
   "metadata": {},
   "outputs": [],
   "source": [
    "using ITensors\n",
    "import KrylovKit \n",
    "#using KrylovKit\n",
    "include(\"TamaTimeEvoMPS/src/TimeEvoMPS.jl\")\n",
    "using .TimeEvoMPS"
   ]
  },
  {
   "cell_type": "code",
   "execution_count": 2,
   "metadata": {},
   "outputs": [
    {
     "data": {
      "text/plain": [
       "138.0"
      ]
     },
     "execution_count": 2,
     "metadata": {},
     "output_type": "execute_result"
    }
   ],
   "source": [
    "using DelimitedFiles\n",
    "coups = readdlm(\"WSCP_MC_T0_coups.dat\");\n",
    "freqs = readdlm(\"WSCP_MC_T0_freqs.dat\");\n",
    "#system energy gap\n",
    "eps = 138."
   ]
  },
  {
   "cell_type": "code",
   "execution_count": 3,
   "metadata": {},
   "outputs": [],
   "source": [
    "sys = siteinds(\"S=1/2\",1);\n",
    "NChain = 150;\n",
    "env = siteinds(\"Boson\", dim=6, NChain);\n",
    "NN = NChain + 1;\n",
    "sysenv = vcat(sys,env);"
   ]
  },
  {
   "cell_type": "code",
   "execution_count": 4,
   "metadata": {},
   "outputs": [],
   "source": [
    "stateSys = [\"Up\"];\n",
    "stateEnv = [\"0\" for n=1:NChain];\n",
    "stateSE = vcat(stateSys,stateEnv);\n",
    "psi0 = productMPS(sysenv,stateSE);"
   ]
  },
  {
   "cell_type": "code",
   "execution_count": 5,
   "metadata": {},
   "outputs": [
    {
     "data": {
      "text/plain": [
       "151"
      ]
     },
     "execution_count": 5,
     "metadata": {},
     "output_type": "execute_result"
    }
   ],
   "source": [
    "size(sysenv)[1]"
   ]
  },
  {
   "cell_type": "code",
   "execution_count": 6,
   "metadata": {},
   "outputs": [],
   "source": [
    "ampo = OpSum()\n",
    "#system Hamiltonian\n",
    "ampo += eps,\"Sz\",1;\n",
    "#system-env interaction\n",
    "#!Sx = 0.5 σx\n",
    "ampo += coups[1],\"Sx\",1,\"Adag\",2\n",
    "ampo += coups[1],\"Sx\",1,\"A\",2\n",
    "#chain local Hamiltonians\n",
    "for j=2:NChain\n",
    "   ampo += freqs[j-1],\"N\",j\n",
    "end\n",
    "\n",
    "for j=2:NChain-1\n",
    "   ampo += coups[j],\"A\",j,\"Adag\",j+1\n",
    "   ampo += coups[j],\"Adag\",j,\"A\",j+1\n",
    "end\n",
    "H = MPO(ampo,sysenv); "
   ]
  },
  {
   "cell_type": "code",
   "execution_count": 66,
   "metadata": {},
   "outputs": [
    {
     "data": {
      "text/plain": [
       "ITensor ord=4 (dim=3|id=710|\"Link,l=1\") (dim=4|id=548|\"Link,l=2\") (dim=6|id=944|\"Boson,Site,n=1\")' (dim=6|id=944|\"Boson,Site,n=1\")\n",
       "ITensors.NDTensors.Dense{Float64, Vector{Float64}}"
      ]
     },
     "execution_count": 66,
     "metadata": {},
     "output_type": "execute_result"
    }
   ],
   "source": [
    "H[2]"
   ]
  },
  {
   "cell_type": "code",
   "execution_count": 7,
   "metadata": {},
   "outputs": [
    {
     "data": {
      "text/plain": [
       "5-element Vector{Any}:\n",
       " opPos(\"Sx\", 1)\n",
       " opPos(\"Sz\", 1)\n",
       " opPos(\"N\", 10)\n",
       " opPos(\"N\", 40)\n",
       " opPos(\"N\", 80)"
      ]
     },
     "execution_count": 7,
     "metadata": {},
     "output_type": "execute_result"
    }
   ],
   "source": [
    "appo=opPos(\"Sx\",1)\n",
    "vobs = []\n",
    "push!(vobs,appo)\n",
    "push!(vobs,opPos(\"Sz\",1))\n",
    "push!(vobs,opPos(\"N\",10))\n",
    "push!(vobs,opPos(\"N\",40))\n",
    "push!(vobs,opPos(\"N\",80))"
   ]
  },
  {
   "cell_type": "code",
   "execution_count": 8,
   "metadata": {},
   "outputs": [
    {
     "data": {
      "text/plain": [
       "5-element Vector{Float64}:\n",
       " 0.0\n",
       " 0.5\n",
       " 0.0\n",
       " 0.0\n",
       " 0.0"
      ]
     },
     "execution_count": 8,
     "metadata": {},
     "output_type": "execute_result"
    }
   ],
   "source": [
    "psi = psi0;\n",
    "appo = Float64[]\n",
    "for lookat in vobs\n",
    "   orthogonalize!(psi,lookat.pos); \n",
    "   psidag = dag(prime(psi[lookat.pos],\"Site\"));\n",
    "   m=scalar(psidag*op(sysenv,lookat.op,lookat.pos)*psi[lookat.pos])\n",
    "   push!(appo,m);  \n",
    "end\n",
    "appo"
   ]
  },
  {
   "cell_type": "code",
   "execution_count": 67,
   "metadata": {},
   "outputs": [
    {
     "data": {
      "text/plain": [
       "LocalMeasurementCallback\n",
       "Operators: opPos[opPos(\"Sx\", 1), opPos(\"Sz\", 1), opPos(\"N\", 10), opPos(\"N\", 40), opPos(\"N\", 80)]\n",
       "No measurements performed\n"
      ]
     },
     "execution_count": 67,
     "metadata": {},
     "output_type": "execute_result"
    }
   ],
   "source": [
    "timestep = 0.0001\n",
    "cbT = LocalMeasurementCallbackTama(vobs,sysenv,timestep)"
   ]
  },
  {
   "cell_type": "code",
   "execution_count": 68,
   "metadata": {},
   "outputs": [
    {
     "name": "stderr",
     "output_type": "stream",
     "text": [
      "┌ Warning: ProgressMeter by default refresh meters with additional information in IJulia via `IJulia.clear_output`, which clears all outputs in the cell. \n",
      "│  - To prevent this behaviour, do `ProgressMeter.ijulia_behavior(:append)`. \n",
      "│  - To disable this warning message, do `ProgressMeter.ijulia_behavior(:clear)`.\n",
      "└ @ ProgressMeter /Users/tama/.julia/packages/ProgressMeter/Vf8un/src/ProgressMeter.jl:620\n",
      "\u001b[32mEvolving state... 100%|█████████████████████████████████| Time: 0:05:18\u001b[39m\n",
      "\u001b[34m  t:             0.0004\u001b[39m\n",
      "\u001b[34m  dt step time:  80.994\u001b[39m\n",
      "\u001b[34m  Max bond-dim:  20\u001b[39m\n"
     ]
    }
   ],
   "source": [
    "tdvp!(psi,H,0.0001,0.0004,maxdim=20,callback=cbT, progress=true)"
   ]
  },
  {
   "cell_type": "code",
   "execution_count": 15,
   "metadata": {},
   "outputs": [
    {
     "data": {
      "text/plain": [
       "Dict{String, Vector{Vector{Float64}}} with 5 entries:\n",
       "  \"N_40\" => [[1.24507e-19], [1.23881e-19], [1.27953e-19], [1.224e-19]]\n",
       "  \"Sx_1\" => [[1.96436e-15], [1.88757e-15], [1.81119e-15], [1.73572e-15]]\n",
       "  \"Sz_1\" => [[0.499593], [0.499415], [0.499204], [0.498961]]\n",
       "  \"N_10\" => [[1.32041e-16], [8.52086e-17], [1.33255e-16], [8.64516e-17]]\n",
       "  \"N_80\" => [[9.29883e-20], [9.07319e-20], [9.03469e-20], [8.85229e-20]]"
      ]
     },
     "execution_count": 15,
     "metadata": {},
     "output_type": "execute_result"
    }
   ],
   "source": [
    "res = measurements(cbT)"
   ]
  },
  {
   "cell_type": "code",
   "execution_count": 75,
   "metadata": {},
   "outputs": [
    {
     "data": {
      "text/plain": [
       ":openblas64"
      ]
     },
     "execution_count": 75,
     "metadata": {},
     "output_type": "execute_result"
    }
   ],
   "source": [
    "using LinearAlgebra\n",
    "BLAS.vendor()"
   ]
  },
  {
   "cell_type": "code",
   "execution_count": 71,
   "metadata": {},
   "outputs": [
    {
     "data": {
      "image/png": "[encoded data removed]",
      "text/plain": [
       "Figure(PyObject <Figure size 640x480 with 1 Axes>)"
      ]
     },
     "metadata": {},
     "output_type": "display_data"
    },
    {
     "data": {
      "text/plain": [
       "PyObject Text(0.5, 24.0, 't')"
      ]
     },
     "execution_count": 71,
     "metadata": {},
     "output_type": "execute_result"
    }
   ],
   "source": [
    "using PyPlot\n",
    "ts = measurement_ts(cbT)\n",
    "for o in [\"Sx_1\",\"Sz_1\",\"N_10\",\"N_40\",\"N_80\"]\n",
    "    S5 = getindex.(measurements(cbT)[\"$o\"],1)\n",
    "    plot(ts,S5,\"-o\",label=\"$o\")\n",
    "end\n",
    "legend()\n",
    "xlabel(\"t\")"
   ]
  },
  {
   "cell_type": "code",
   "execution_count": 14,
   "metadata": {},
   "outputs": [
    {
     "data": {
      "text/plain": [
       "1.0"
      ]
     },
     "execution_count": 14,
     "metadata": {},
     "output_type": "execute_result"
    }
   ],
   "source": [
    "norm(psi)"
   ]
  },
  {
   "cell_type": "code",
   "execution_count": null,
   "metadata": {},
   "outputs": [],
   "source": []
  }
 ],
 "metadata": {
  "kernelspec": {
   "display_name": "Julia 1.6.2",
   "language": "julia",
   "name": "julia-1.6"
  },
  "language_info": {
   "file_extension": ".jl",
   "mimetype": "application/julia",
   "name": "julia",
   "version": "1.6.2"
  },
  "orig_nbformat": 4
 },
 "nbformat": 4,
 "nbformat_minor": 2
}
