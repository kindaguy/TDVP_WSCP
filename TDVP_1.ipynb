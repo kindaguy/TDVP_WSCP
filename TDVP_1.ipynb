{
 "cells": [
  {
   "cell_type": "code",
   "execution_count": 2,
   "metadata": {},
   "outputs": [],
   "source": [
    "using ITensors\n",
    "import KrylovKit \n",
    "#using KrylovKit\n",
    "include(\"TamaTimeEvoMPS/src/TimeEvoMPS.jl\")\n",
    "using .TimeEvoMPS"
   ]
  },
  {
   "cell_type": "code",
   "execution_count": 3,
   "metadata": {},
   "outputs": [
    {
     "data": {
      "text/plain": [
       "150.0"
      ]
     },
     "execution_count": 3,
     "metadata": {},
     "output_type": "execute_result"
    }
   ],
   "source": [
    "using DelimitedFiles\n",
    "coups = readdlm(\"lorentz_150.0_1_1.0_T_150_coups.dat\");\n",
    "freqs = readdlm(\"lorentz_150.0_1_1.0_T_150_freqs.dat\");\n",
    "#system energy gap\n",
    "eps = 150."
   ]
  },
  {
   "cell_type": "code",
   "execution_count": 4,
   "metadata": {},
   "outputs": [],
   "source": [
    "sys = siteinds(\"S=1/2\",1);\n",
    "NChain = 30;\n",
    "env = siteinds(\"Boson\", dim=5, NChain);\n",
    "NN = NChain + 1;\n",
    "sysenv = vcat(sys,env);"
   ]
  },
  {
   "cell_type": "code",
   "execution_count": 5,
   "metadata": {},
   "outputs": [],
   "source": [
    "stateSys = [\"Up\"];\n",
    "stateEnv = [\"0\" for n=1:NChain];\n",
    "stateSE = vcat(stateSys,stateEnv);\n",
    "psi0 = productMPS(sysenv,stateSE);"
   ]
  },
  {
   "cell_type": "code",
   "execution_count": 6,
   "metadata": {},
   "outputs": [],
   "source": [
    "ampo = OpSum()\n",
    "#system Hamiltonian\n",
    "ampo += eps,\"Sz\",1;\n",
    "#system-env interaction\n",
    "#!Sx = 0.5 σx\n",
    "ampo += 2*coups[1],\"Sx\",1,\"Adag\",2\n",
    "ampo += 2*coups[1],\"Sx\",1,\"A\",2\n",
    "#chain local Hamiltonians\n",
    "for j=2:NChain\n",
    "   ampo += freqs[j-1],\"N\",j\n",
    "end\n",
    "\n",
    "for j=2:NChain-1\n",
    "   ampo += coups[j],\"A\",j,\"Adag\",j+1\n",
    "   ampo += coups[j],\"Adag\",j,\"A\",j+1\n",
    "end\n",
    "H = MPO(ampo,sysenv); "
   ]
  },
  {
   "cell_type": "code",
   "execution_count": 7,
   "metadata": {},
   "outputs": [
    {
     "data": {
      "text/plain": [
       "5-element Vector{Any}:\n",
       " opPos(\"Sx\", 1)\n",
       " opPos(\"Sz\", 1)\n",
       " opPos(\"N\", 2)\n",
       " opPos(\"N\", 3)\n",
       " opPos(\"N\", 4)"
      ]
     },
     "execution_count": 7,
     "metadata": {},
     "output_type": "execute_result"
    }
   ],
   "source": [
    "appo=opPos(\"Sx\",1)\n",
    "vobs = []\n",
    "push!(vobs,appo)\n",
    "push!(vobs,opPos(\"Sz\",1))\n",
    "push!(vobs,opPos(\"N\",2))\n",
    "push!(vobs,opPos(\"N\",3))\n",
    "push!(vobs,opPos(\"N\",4))"
   ]
  },
  {
   "cell_type": "code",
   "execution_count": 8,
   "metadata": {},
   "outputs": [
    {
     "data": {
      "text/plain": [
       "5-element Vector{Float64}:\n",
       " 0.0\n",
       " 0.5\n",
       " 0.0\n",
       " 0.0\n",
       " 0.0"
      ]
     },
     "execution_count": 8,
     "metadata": {},
     "output_type": "execute_result"
    }
   ],
   "source": [
    "psi = psi0;\n",
    "appo = Float64[]\n",
    "for lookat in vobs\n",
    "   orthogonalize!(psi,lookat.pos); \n",
    "   psidag = dag(prime(psi[lookat.pos],\"Site\"));\n",
    "   m=scalar(psidag*op(sysenv,lookat.op,lookat.pos)*psi[lookat.pos])\n",
    "   push!(appo,m);  \n",
    "end\n",
    "appo"
   ]
  },
  {
   "cell_type": "code",
   "execution_count": 9,
   "metadata": {},
   "outputs": [
    {
     "data": {
      "text/plain": [
       "LocalMeasurementCallback\n",
       "Operators: opPos[opPos(\"Sx\", 1), opPos(\"Sz\", 1), opPos(\"N\", 2), opPos(\"N\", 3), opPos(\"N\", 4)]\n",
       "No measurements performed\n"
      ]
     },
     "execution_count": 9,
     "metadata": {},
     "output_type": "execute_result"
    }
   ],
   "source": [
    "cbT = LocalMeasurementCallbackTama(vobs,sysenv,0.1)"
   ]
  },
  {
   "cell_type": "code",
   "execution_count": 10,
   "metadata": {},
   "outputs": [
    {
     "name": "stderr",
     "output_type": "stream",
     "text": [
      "┌ Warning: ProgressMeter by default refresh meters with additional information in IJulia via `IJulia.clear_output`, which clears all outputs in the cell. \n",
      "│  - To prevent this behaviour, do `ProgressMeter.ijulia_behavior(:append)`. \n",
      "│  - To disable this warning message, do `ProgressMeter.ijulia_behavior(:clear)`.\n",
      "└ @ ProgressMeter /Users/tama/.julia/packages/ProgressMeter/Vf8un/src/ProgressMeter.jl:620\n",
      "\u001b[32mEvolving state... 100%|█████████████████████████████████| Time: 0:56:50\u001b[39m\n",
      "\u001b[34m  t:             3.0\u001b[39m\n",
      "\u001b[34m  dt step time:  12.197\u001b[39m\n",
      "\u001b[34m  Max bond-dim:  20\u001b[39m\n"
     ]
    }
   ],
   "source": [
    "tdvp!(psi,H,0.01,3,maxdim=20,callback=cbT, progress=true)"
   ]
  },
  {
   "cell_type": "code",
   "execution_count": 11,
   "metadata": {},
   "outputs": [
    {
     "data": {
      "text/plain": [
       "Dict{String, Vector{Vector{Float64}}} with 5 entries:\n",
       "  \"N_4\"  => [[0.000123931], [0.000447593], [0.000614425], [0.000192106], [0.000…\n",
       "  \"Sx_1\" => [[-3.79637e-8], [-1.31357e-7], [1.93615e-7], [-2.8503e-7], [3.53802…\n",
       "  \"N_2\"  => [[0.0102058], [0.0371778], [0.0753316], [0.126391], [0.194543], [0.…\n",
       "  \"Sz_1\" => [[0.484785], [0.442302], [0.378316], [0.29778], [0.203859], [0.1012…\n",
       "  \"N_3\"  => [[0.00414986], [0.0142237], [0.0282485], [0.049065], [0.0783939], […"
      ]
     },
     "execution_count": 11,
     "metadata": {},
     "output_type": "execute_result"
    }
   ],
   "source": [
    "measurements(cbT)"
   ]
  },
  {
   "cell_type": "code",
   "execution_count": 13,
   "metadata": {},
   "outputs": [
    {
     "data": {
      "image/png": "[encoded data removed]",
      "text/plain": [
       "Figure(PyObject <Figure size 640x480 with 1 Axes>)"
      ]
     },
     "metadata": {},
     "output_type": "display_data"
    },
    {
     "data": {
      "text/plain": [
       "PyObject Text(0.5, 24.0, 't')"
      ]
     },
     "execution_count": 13,
     "metadata": {},
     "output_type": "execute_result"
    }
   ],
   "source": [
    "using PyPlot\n",
    "ts = measurement_ts(cbT)\n",
    "for o in [\"Sx_1\",\"Sz_1\",\"N_2\",\"N_3\",\"N_4\"]\n",
    "    S5 = getindex.(measurements(cbT)[\"$o\"],1)\n",
    "    plot(ts,S5,\"-o\",label=\"$o\")\n",
    "end\n",
    "legend()\n",
    "xlabel(\"t\")"
   ]
  },
  {
   "cell_type": "code",
   "execution_count": 14,
   "metadata": {},
   "outputs": [
    {
     "data": {
      "text/plain": [
       "1.0"
      ]
     },
     "execution_count": 14,
     "metadata": {},
     "output_type": "execute_result"
    }
   ],
   "source": [
    "norm(psi)"
   ]
  },
  {
   "cell_type": "code",
   "execution_count": null,
   "metadata": {},
   "outputs": [],
   "source": []
  }
 ],
 "metadata": {
  "kernelspec": {
   "display_name": "Julia 1.6.2",
   "language": "julia",
   "name": "julia-1.6"
  },
  "language_info": {
   "file_extension": ".jl",
   "mimetype": "application/julia",
   "name": "julia",
   "version": "1.6.2"
  },
  "orig_nbformat": 4
 },
 "nbformat": 4,
 "nbformat_minor": 2
}
