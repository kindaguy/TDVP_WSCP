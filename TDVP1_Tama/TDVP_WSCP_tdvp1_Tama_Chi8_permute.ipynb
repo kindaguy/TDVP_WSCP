{
 "cells": [
  {
   "cell_type": "code",
   "execution_count": 2,
   "metadata": {},
   "outputs": [
    {
     "name": "stderr",
     "output_type": "stream",
     "text": [
      "\u001b[32m\u001b[1m  Activating\u001b[22m\u001b[39m environment at `~/Desktop/TamaITensor/TDVP/TDVP1_Tama/Project.toml`\n",
      "┌ Info: Precompiling TimeEvoMPS [1bec0e0a-d6ff-11e9-2fd9-7928ca571592]\n",
      "└ @ Base loading.jl:1342\n",
      "\u001b[33m\u001b[1m┌ \u001b[22m\u001b[39m\u001b[33m\u001b[1mWarning: \u001b[22m\u001b[39mPackage TimeEvoMPS does not have MKL in its dependencies:\n",
      "\u001b[33m\u001b[1m│ \u001b[22m\u001b[39m- If you have TimeEvoMPS checked out for development and have\n",
      "\u001b[33m\u001b[1m│ \u001b[22m\u001b[39m  added MKL as a dependency but haven't updated your primary\n",
      "\u001b[33m\u001b[1m│ \u001b[22m\u001b[39m  environment's manifest file, try `Pkg.resolve()`.\n",
      "\u001b[33m\u001b[1m│ \u001b[22m\u001b[39m- Otherwise you may need to report an issue with TimeEvoMPS\n",
      "\u001b[33m\u001b[1m└ \u001b[22m\u001b[39mLoading MKL into TimeEvoMPS from project dependency, future warnings for TimeEvoMPS are suppressed.\n"
     ]
    },
    {
     "data": {
      "text/plain": [
       "stretchBondDim (generic function with 1 method)"
      ]
     },
     "execution_count": 2,
     "metadata": {},
     "output_type": "execute_result"
    }
   ],
   "source": [
    "using Pkg\n",
    "Pkg.activate(\".\")\n",
    "using ITensors\n",
    "using DelimitedFiles\n",
    "using TimeEvoMPS\n",
    "include(\"TDVP_lib.jl\")\n",
    "#import KrylovKit \n",
    "#using KrylovKit\n",
    "# include(\"TamaTimeEvoMPS/src/TimeEvoMPS.jl\")\n",
    "# using .TimeEvoMPS"
   ]
  },
  {
   "cell_type": "code",
   "execution_count": 3,
   "metadata": {},
   "outputs": [],
   "source": [
    "using Permutations"
   ]
  },
  {
   "cell_type": "code",
   "execution_count": 4,
   "metadata": {},
   "outputs": [
    {
     "data": {
      "text/plain": [
       "138.0"
      ]
     },
     "execution_count": 4,
     "metadata": {},
     "output_type": "execute_result"
    }
   ],
   "source": [
    "coups = readdlm(\"../Chain_mappings/WSCP_MC_T0_coups.dat\");\n",
    "freqs = readdlm(\"../Chain_mappings/WSCP_MC_T0_freqs.dat\");\n",
    "#system energy gap\n",
    "eps = 138."
   ]
  },
  {
   "cell_type": "code",
   "execution_count": 5,
   "metadata": {},
   "outputs": [],
   "source": [
    "sys = siteinds(\"S=1/2\",1);\n",
    "NChain = 86;\n",
    "env = siteinds(\"Boson\", dim=6, NChain);\n",
    "NN = NChain + 1;\n",
    "sysenv = vcat(sys,env);"
   ]
  },
  {
   "cell_type": "code",
   "execution_count": 6,
   "metadata": {},
   "outputs": [
    {
     "name": "stdout",
     "output_type": "stream",
     "text": [
      "Sys-env total length: 87\n"
     ]
    }
   ],
   "source": [
    "stateSys = [\"Up\"];\n",
    "stateEnv = [\"0\" for n=1:NChain];\n",
    "stateSE = vcat(stateSys,stateEnv);\n",
    "psi0 = productMPS(sysenv,stateSE);\n",
    "println(\"Sys-env total length: \",length(sysenv))"
   ]
  },
  {
   "cell_type": "code",
   "execution_count": 7,
   "metadata": {},
   "outputs": [
    {
     "name": "stdout",
     "output_type": "stream",
     "text": [
      "1.0\n"
     ]
    }
   ],
   "source": [
    "psi0,over = stretchBondDim(psi0,Int(8));\n",
    "println(over)"
   ]
  },
  {
   "cell_type": "markdown",
   "metadata": {},
   "source": [
    "We define a trivial Hamiltonian to use as to set the initial bond dimension of the MPS to the desired size (mindim)"
   ]
  },
  {
   "cell_type": "markdown",
   "metadata": {},
   "source": [
    "# Set Markovian closure parameters + define total Hamiltonian (MPO)"
   ]
  },
  {
   "cell_type": "code",
   "execution_count": 8,
   "metadata": {},
   "outputs": [
    {
     "data": {
      "text/plain": [
       "2"
      ]
     },
     "execution_count": 8,
     "metadata": {},
     "output_type": "execute_result"
    }
   ],
   "source": [
    "b=[2,1,4,3,6,5];\n",
    "pmtx = Permutation(b);\n",
    "pmtx(1)"
   ]
  },
  {
   "cell_type": "code",
   "execution_count": 9,
   "metadata": {},
   "outputs": [],
   "source": [
    "#asymptotic frequency\n",
    "MC_N = 6;\n",
    "NP_Chain = NN - MC_N;\n",
    "OO = 500.;\n",
    "alphas_MC = readdlm(\"../MC_Pars/alphas_6.dat\")\n",
    "betas_MC = readdlm(\"../MC_Pars/betas_6.dat\")\n",
    "coups_MC = readdlm(\"../MC_Pars/coupls_6.dat\")\n",
    "gammas = OO * alphas_MC[:,1];\n",
    "eff_freq = [OO + 1im * g for g in gammas];\n",
    "eff_gs = OO * betas_MC[:,2];\n",
    "eff_coup = OO/2* (coups_MC[:,1]+ 1im *coups_MC[:,2]);\n",
    "\n",
    "#Definition of the TEDOPA+MC Hamiltonian (MPO form)\n",
    "#Lavoriamo qui\n",
    "ampo = OpSum()\n",
    "#system Hamiltonian\n",
    "ampo += eps,\"Sz\",1;\n",
    "#system-env interaction\n",
    "#!Sx = 0.5 σx\n",
    "ampo += 2*coups[1],\"Sx\",1,\"Adag\",2\n",
    "ampo += 2*coups[1],\"Sx\",1,\"A\",2\n",
    "\n",
    "#Primary chain local Hamiltonians\n",
    "for j=2:NP_Chain\n",
    "   ampo += freqs[j-1],\"N\",j\n",
    "end\n",
    "\n",
    "for j=2:NP_Chain-1\n",
    "   ampo += coups[j],\"A\",j,\"Adag\",j+1\n",
    "   ampo += coups[j],\"Adag\",j,\"A\",j+1\n",
    "end\n",
    "#################################\n",
    "\n",
    "#Markovian closure Hamiltonian\n",
    "for j=1:MC_N\n",
    "   ampo += eff_freq[j],\"N\",NP_Chain+pmtx(j)\n",
    "end\n",
    "\n",
    "for j=1:MC_N-1\n",
    "   ampo += eff_gs[j],\"A\",NP_Chain+pmtx(j),\"Adag\",NP_Chain+pmtx(j+1)\n",
    "   ampo += eff_gs[j],\"Adag\",NP_Chain+pmtx(j),\"A\",NP_Chain+pmtx(j+1)\n",
    "end\n",
    "\n",
    "#################################\n",
    "\n",
    "#Primary chain - MC interaction\n",
    "for j=1:MC_N\n",
    "   ampo += eff_coup[j],\"A\",NP_Chain,\"Adag\",NP_Chain+pmtx(j)\n",
    "   ampo += conj(eff_coup[j]),\"Adag\",NP_Chain,\"A\",NP_Chain+pmtx(j)\n",
    "end\n",
    "\n",
    "\n",
    "H = MPO(ampo,sysenv); \n",
    "\n",
    "#Set MPO bond dimensions\n",
    "[dim(linkind(H,j)) for j in 1:length(H)-1];"
   ]
  },
  {
   "cell_type": "code",
   "execution_count": 10,
   "metadata": {},
   "outputs": [
    {
     "data": {
      "text/plain": [
       "86-element Vector{Int64}:\n",
       " 3\n",
       " 4\n",
       " 4\n",
       " 4\n",
       " 4\n",
       " 4\n",
       " 4\n",
       " 4\n",
       " 4\n",
       " 4\n",
       " 4\n",
       " 4\n",
       " 4\n",
       " ⋮\n",
       " 4\n",
       " 4\n",
       " 4\n",
       " 4\n",
       " 4\n",
       " 4\n",
       " 4\n",
       " 6\n",
       " 6\n",
       " 8\n",
       " 6\n",
       " 4"
      ]
     },
     "execution_count": 10,
     "metadata": {},
     "output_type": "execute_result"
    }
   ],
   "source": [
    "[dim(linkind(H,j)) for j in 1:length(H)-1]"
   ]
  },
  {
   "cell_type": "code",
   "execution_count": 11,
   "metadata": {},
   "outputs": [],
   "source": [
    "vobs = []\n",
    "push!(vobs,opPos(\"Sx\",1))\n",
    "push!(vobs,opPos(\"Sz\",1))\n",
    "nchain = collect(10:10:80)\n",
    "for i in nchain \n",
    "   push!(vobs,opPos(\"N\",i+1))\n",
    "end\n",
    "for i in 81:87\n",
    "   push!(vobs,opPos(\"N\",i))\n",
    "end"
   ]
  },
  {
   "cell_type": "code",
   "execution_count": 15,
   "metadata": {},
   "outputs": [
    {
     "data": {
      "text/plain": [
       "LocalMeasurementCallback\n",
       "Operators: opPos[opPos(\"Sx\", 1), opPos(\"Sz\", 1), opPos(\"N\", 11), opPos(\"N\", 21), opPos(\"N\", 31), opPos(\"N\", 41), opPos(\"N\", 51), opPos(\"N\", 61), opPos(\"N\", 71), opPos(\"N\", 81), opPos(\"N\", 81), opPos(\"N\", 82), opPos(\"N\", 83), opPos(\"N\", 84), opPos(\"N\", 85), opPos(\"N\", 86), opPos(\"N\", 87)]\n",
       "No measurements performed\n"
      ]
     },
     "execution_count": 15,
     "metadata": {},
     "output_type": "execute_result"
    }
   ],
   "source": [
    "psi=deepcopy(psi0)\n",
    "timestep = 0.0001\n",
    "tmax = 0.5\n",
    "cbT = LocalMeasurementCallbackTama(vobs,sysenv,10*timestep)"
   ]
  },
  {
   "cell_type": "code",
   "execution_count": 16,
   "metadata": {},
   "outputs": [
    {
     "data": {
      "text/plain": [
       "1.0"
      ]
     },
     "execution_count": 16,
     "metadata": {},
     "output_type": "execute_result"
    }
   ],
   "source": [
    "norm(psi)"
   ]
  },
  {
   "cell_type": "code",
   "execution_count": 17,
   "metadata": {},
   "outputs": [
    {
     "ename": "LoadError",
     "evalue": "InterruptException:",
     "output_type": "error",
     "traceback": [
      "InterruptException:",
      "",
      "Stacktrace:",
      "  [1] contract_labels(T1labels::NTuple{4, Int64}, T2labels::Tuple{Int64, Int64, Int64})",
      "    @ NDTensors ~/.julia/packages/NDTensors/hSwie/src/contraction_logic.jl:13",
      "  [2] contract(T1::NDTensors.DenseTensor{ComplexF64, 4, NTuple{4, Index{Int64}}, NDTensors.Dense{ComplexF64, Vector{ComplexF64}}}, labelsT1::NTuple{4, Int64}, T2::NDTensors.DenseTensor{ComplexF64, 3, Tuple{Index{Int64}, Index{Int64}, Index{Int64}}, NDTensors.Dense{ComplexF64, Vector{ComplexF64}}}, labelsT2::Tuple{Int64, Int64, Int64})",
      "    @ NDTensors ~/.julia/packages/NDTensors/hSwie/src/dense.jl:563",
      "  [3] _contract(A::NDTensors.DenseTensor{ComplexF64, 4, NTuple{4, Index{Int64}}, NDTensors.Dense{ComplexF64, Vector{ComplexF64}}}, B::NDTensors.DenseTensor{ComplexF64, 3, Tuple{Index{Int64}, Index{Int64}, Index{Int64}}, NDTensors.Dense{ComplexF64, Vector{ComplexF64}}})",
      "    @ ITensors ~/.julia/packages/ITensors/uvZHM/src/itensor.jl:1764",
      "  [4] _contract(A::ITensor, B::ITensor)",
      "    @ ITensors ~/.julia/packages/ITensors/uvZHM/src/itensor.jl:1770",
      "  [5] contract(A::ITensor, B::ITensor)",
      "    @ ITensors ~/.julia/packages/ITensors/uvZHM/src/itensor.jl:1872",
      "  [6] *",
      "    @ ~/.julia/packages/ITensors/uvZHM/src/itensor.jl:1860 [inlined]",
      "  [7] contract(P::ProjMPO, v::ITensor)",
      "    @ ITensors ~/.julia/packages/ITensors/uvZHM/src/mps/abstractprojmpo.jl:67",
      "  [8] product(P::ProjMPO, v::ITensor)",
      "    @ ITensors ~/.julia/packages/ITensors/uvZHM/src/mps/abstractprojmpo.jl:87",
      "  [9] AbstractProjMPO",
      "    @ ~/.julia/packages/ITensors/uvZHM/src/mps/abstractprojmpo.jl:103 [inlined]",
      " [10] apply",
      "    @ ~/.julia/packages/KrylovKit/kWdb6/src/apply.jl:2 [inlined]",
      " [11] arnoldirecurrence!(operator::ProjMPO, V::KrylovKit.OrthonormalBasis{ITensor}, h::SubArray{ComplexF64, 1, Vector{ComplexF64}, Tuple{UnitRange{Int64}}, true}, orth::KrylovKit.ModifiedGramSchmidt2)",
      "    @ KrylovKit ~/.julia/packages/KrylovKit/kWdb6/src/factorizations/arnoldi.jl:235",
      " [12] expand!(iter::KrylovKit.ArnoldiIterator{ProjMPO, ITensor, KrylovKit.ModifiedGramSchmidt2}, state::KrylovKit.ArnoldiFactorization{ITensor, ComplexF64}; verbosity::Int64)",
      "    @ KrylovKit ~/.julia/packages/KrylovKit/kWdb6/src/factorizations/arnoldi.jl:206",
      " [13] expintegrator(A::ProjMPO, t::ComplexF64, u::Tuple{ITensor, ITensor}, alg::KrylovKit.Arnoldi{KrylovKit.ModifiedGramSchmidt2, Float64})",
      "    @ KrylovKit ~/.julia/packages/KrylovKit/kWdb6/src/matrixfun/expintegrator.jl:267",
      " [14] expintegrator",
      "    @ ~/.julia/packages/KrylovKit/kWdb6/src/matrixfun/expintegrator.jl:106 [inlined]",
      " [15] expintegrator(::ProjMPO, ::ComplexF64, ::ITensor; kwargs::Base.Iterators.Pairs{Symbol, Real, NTuple{5, Symbol}, NamedTuple{(:ishermitian, :tol, :krylovdim, :maxiter, :eager), Tuple{Bool, Float64, Int64, Int64, Bool}}})",
      "    @ KrylovKit ~/.julia/packages/KrylovKit/kWdb6/src/matrixfun/expintegrator.jl:102",
      " [16] #exponentiate#82",
      "    @ ~/.julia/packages/KrylovKit/kWdb6/src/matrixfun/exponentiate.jl:79 [inlined]",
      " [17] macro expansion",
      "    @ ~/Desktop/TamaITensor/TDVP/TDVP1_Tama/TamaTimeEvoMPS/src/tdvp.jl:499 [inlined]",
      " [18] macro expansion",
      "    @ ./timing.jl:287 [inlined]",
      " [19] tdvp1!(psi::MPS, H::MPO, dt::Float64, tf::Float64; kwargs::Base.Iterators.Pairs{Symbol, Any, NTuple{10, Symbol}, NamedTuple{(:hermitian, :normalize, :callback, :progress, :krylovdim, :exp_tol, :io_file, :store_psi0, :io_ranks, :io_times), Tuple{Bool, Bool, LocalMeasurementCallbackTama, Bool, Int64, Float64, String, Bool, String, String}}})",
      "    @ TimeEvoMPS ~/Desktop/TamaITensor/TDVP/TDVP1_Tama/TamaTimeEvoMPS/src/tdvp.jl:478",
      " [20] top-level scope",
      "    @ In[17]:1",
      " [21] eval",
      "    @ ./boot.jl:360 [inlined]",
      " [22] include_string(mapexpr::typeof(REPL.softscope), mod::Module, code::String, filename::String)",
      "    @ Base ./loading.jl:1116"
     ]
    }
   ],
   "source": [
    "tdvp1!(psi,H,timestep,tmax, hermitian = false, normalize = false, callback=cbT, progress=false, krylovdim = 10, exp_tol = 10e-10, io_file=\"critico.dat\",store_psi0 = true,io_ranks = \"ranghi.dat\",io_times = \"times.dat\")"
   ]
  },
  {
   "cell_type": "code",
   "execution_count": null,
   "metadata": {},
   "outputs": [],
   "source": [
    "dot(psi0,psi)"
   ]
  },
  {
   "cell_type": "markdown",
   "metadata": {},
   "source": [
    "## Plotting"
   ]
  },
  {
   "cell_type": "code",
   "execution_count": null,
   "metadata": {},
   "outputs": [],
   "source": [
    "using PyPlot\n",
    "ts = measurement_ts(cbT)\n",
    "for o in [\"Sx_1\",\"Sz_1\",\"N_10\",\"N_20\"]\n",
    "    S5 = getindex.(measurements(cbT)[\"$o\"],1)\n",
    "    plot(ts,S5,\"-o\",label=\"$o\")\n",
    "end\n",
    "legend()\n",
    "xlabel(\"t\")"
   ]
  },
  {
   "cell_type": "code",
   "execution_count": null,
   "metadata": {},
   "outputs": [],
   "source": [
    "psi[10]"
   ]
  },
  {
   "cell_type": "code",
   "execution_count": null,
   "metadata": {},
   "outputs": [],
   "source": []
  },
  {
   "cell_type": "code",
   "execution_count": null,
   "metadata": {},
   "outputs": [],
   "source": [
    "typeof(io)"
   ]
  },
  {
   "cell_type": "code",
   "execution_count": null,
   "metadata": {},
   "outputs": [],
   "source": [
    "using Printf"
   ]
  },
  {
   "cell_type": "code",
   "execution_count": null,
   "metadata": {},
   "outputs": [],
   "source": [
    "io = open(\"prova_sampa.dat\",\"a\")\n",
    "@printf(io,\"%20s%20s%20s\\n\",\"tempo\",\"ciao\",\"mondo\")\n",
    "@printf(io,\"%20f%20f%20f\\n\",10,20,30)\n",
    "close(io)"
   ]
  },
  {
   "cell_type": "code",
   "execution_count": null,
   "metadata": {},
   "outputs": [],
   "source": []
  },
  {
   "cell_type": "code",
   "execution_count": null,
   "metadata": {},
   "outputs": [],
   "source": []
  }
 ],
 "metadata": {
  "kernelspec": {
   "display_name": "Julia 1.6.2",
   "language": "julia",
   "name": "julia-1.6"
  },
  "language_info": {
   "file_extension": ".jl",
   "mimetype": "application/julia",
   "name": "julia",
   "version": "1.6.2"
  },
  "orig_nbformat": 4
 },
 "nbformat": 4,
 "nbformat_minor": 2
}
