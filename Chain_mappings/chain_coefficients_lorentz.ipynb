{
 "cells": [
  {
   "cell_type": "code",
   "execution_count": null,
   "metadata": {},
   "outputs": [],
   "source": []
  },
  {
   "cell_type": "code",
   "execution_count": 2,
   "metadata": {},
   "outputs": [],
   "source": [
    "import numpy as np\n",
    "import scipy as sp\n",
    "import math\n",
    "from tedopa import _recurrence_coefficients as rc\n",
    "import matplotlib.pyplot as plt"
   ]
  },
  {
   "cell_type": "code",
   "execution_count": 3,
   "metadata": {},
   "outputs": [],
   "source": [
    "# Parameters\n",
    "gamma = 1\n",
    "Omega = 150.\n",
    "coupling  = 1.\n",
    "temp = 150\n",
    "hcut = 250"
   ]
  },
  {
   "cell_type": "code",
   "execution_count": 29,
   "metadata": {},
   "outputs": [],
   "source": [
    "#Define anti-symmetrized Lorentz\n",
    "# def asl(s,omega,gamma,x):\n",
    "#     return (s* gamma*(np.power(gamma,2)+np.power(omega,2))/np.pi * (1./ (\n",
    "#     np.power(gamma, 2) + np.power(x - omega, 2)) - 1./ (\n",
    "#     np.power(gamma, 2) + np.power(x + omega, 2))))\n",
    "\n",
    "#ATTENTION: drop 1/pi factor, which is already set in recurrenceCoefficients\n",
    "\n",
    "def asl(s,omega,gamma,x):\n",
    "    return s * (1./ (\n",
    "    np.power(gamma, 2) + np.power(x - omega, 2)) - 1./ (\n",
    "    np.power(gamma, 2) + np.power(x + omega, 2)))\n",
    "\n",
    "# def asl2(x):\n",
    "#     return (modeCoupling2 * (1. / np.pi * gamma / (\n",
    "#     np.power(gamma, 2) + np.power(x - mode2, 2)) - 1. / np.pi * gamma / (\n",
    "#     np.power(gamma, 2) + np.power(x + mode2, 2))))\n",
    "#\n",
    "aslv=np.vectorize(asl)\n",
    "#asl2v=np.vectorize(asl2)\n",
    "#supOhm5v=np.vectorize(supOhm5)\n",
    "\n",
    "if (temp==0):\n",
    "    omegaCN=0.\n",
    "    jj = lambda x: aslv(coupling,Omega,gamma,x)\n",
    "else:\n",
    "    #jj = lambda x: 0.5 * (1. + 1. / np.tanh(0.5 * x * 1.4387773 / temp)) * aslv(coupling, Omega, gamma, x)\n",
    "    jj = lambda x: 0.5 * (1. + 1. / np.tanh(0.5 * x / temp)) * aslv(coupling, Omega, gamma, x)"
   ]
  },
  {
   "cell_type": "code",
   "execution_count": null,
   "metadata": {},
   "outputs": [],
   "source": [
    "#Show SD...\n",
    "poi = np.linspace(-hcut,hcut,1000)\n",
    "plt.plot(poi,jj(poi))"
   ]
  },
  {
   "cell_type": "code",
   "execution_count": 30,
   "metadata": {},
   "outputs": [],
   "source": [
    "alphas,betas = rc.recurrenceCoefficients(700,-hcut,hcut,jj,1,ncap=10000)"
   ]
  },
  {
   "cell_type": "code",
   "execution_count": 31,
   "metadata": {},
   "outputs": [],
   "source": [
    "omegas = np.array(alphas)\n",
    "coups = np.sqrt(betas)\n",
    "ts = np.sqrt(np.array(betas[1::]))\n",
    "c0 = np.sqrt(betas[0])"
   ]
  },
  {
   "cell_type": "code",
   "execution_count": 32,
   "metadata": {},
   "outputs": [
    {
     "data": {
      "text/plain": [
       "1.4699098960104768"
      ]
     },
     "execution_count": 32,
     "metadata": {},
     "output_type": "execute_result"
    }
   ],
   "source": [
    "c0"
   ]
  },
  {
   "cell_type": "code",
   "execution_count": 33,
   "metadata": {},
   "outputs": [
    {
     "data": {
      "image/png": "[encoded data removed]",
      "text/plain": [
       "<Figure size 432x288 with 1 Axes>"
      ]
     },
     "metadata": {
      "needs_background": "light"
     },
     "output_type": "display_data"
    }
   ],
   "source": [
    "plt.plot(omegas[0:99], label=\"freqs\")\n",
    "plt.plot(coups[1:100],label = \"coups\")\n",
    "plt.show()\n"
   ]
  },
  {
   "cell_type": "code",
   "execution_count": 34,
   "metadata": {},
   "outputs": [],
   "source": [
    "np.savetxt(\"lorentz_\"+str(Omega)+\"_\"+str(gamma)+\"_\"+str(coupling)+\"_T_\"+str(temp)+\"_freqs.dat\",omegas)\n",
    "np.savetxt(\"lorentz_\"+str(Omega)+\"_\"+str(gamma)+\"_\"+str(coupling)+\"_T_\"+str(temp)+\"_coups.dat\",coups)"
   ]
  },
  {
   "cell_type": "code",
   "execution_count": null,
   "metadata": {},
   "outputs": [],
   "source": []
  }
 ],
 "metadata": {
  "interpreter": {
   "hash": "472a591a5ac1dc5461038f077f53b8b42154bdc31bedb27eac675951f5b4a0ef"
  },
  "kernelspec": {
   "display_name": "Python 3.9.5 64-bit ('pytedopa_env': conda)",
   "language": "python",
   "name": "python3"
  },
  "language_info": {
   "codemirror_mode": {
    "name": "ipython",
    "version": 3
   },
   "file_extension": ".py",
   "mimetype": "text/x-python",
   "name": "python",
   "nbconvert_exporter": "python",
   "pygments_lexer": "ipython3",
   "version": "3.9.5"
  },
  "orig_nbformat": 4
 },
 "nbformat": 4,
 "nbformat_minor": 2
}
