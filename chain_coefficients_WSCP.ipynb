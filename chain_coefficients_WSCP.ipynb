{
 "cells": [
  {
   "cell_type": "code",
   "execution_count": 30,
   "metadata": {},
   "outputs": [],
   "source": [
    "import numpy as np\n",
    "import scipy as sp\n",
    "import scipy.integrate\n",
    "import math\n",
    "from tedopa import _recurrence_coefficients as rc\n",
    "import matplotlib.pyplot as plt"
   ]
  },
  {
   "cell_type": "code",
   "execution_count": 3,
   "metadata": {},
   "outputs": [],
   "source": [
    "def supOhm5(s,omega,x):\n",
    "    return(np.pi*s/(2*math.factorial(9)*np.power(omega,4))* np.power(x,5)*np.exp(-np.sqrt( np.fabs(x)/omega)))"
   ]
  },
  {
   "cell_type": "code",
   "execution_count": 4,
   "metadata": {},
   "outputs": [],
   "source": [
    "#Define anti-symmetrized Lorentz\n",
    "def asl(s,omega,gamma,x):\n",
    "    return (8*s*gamma*omega*(4*np.power(omega,2)+ np.power(gamma,2))*x)/(\n",
    "        (4*np.power((x-omega),2)+np.power(gamma,2))*(4*np.power((x+omega),2)+np.power(gamma,2))\n",
    "    ) \n",
    "    #(s* gamma*(np.power(gamma,2)+np.power(omega,2))/np.pi * (1./ (\n",
    "    #np.power(gamma, 2) + np.power(x - omega, 2)) - 1./ (\n",
    "    #np.power(gamma, 2) + np.power(x + omega, 2))))"
   ]
  },
  {
   "cell_type": "code",
   "execution_count": 8,
   "metadata": {},
   "outputs": [],
   "source": [
    "ssO = np.array([35.35,22.15])"
   ]
  },
  {
   "cell_type": "code",
   "execution_count": 11,
   "metadata": {},
   "outputs": [
    {
     "data": {
      "text/plain": [
       "35.35"
      ]
     },
     "execution_count": 11,
     "metadata": {},
     "output_type": "execute_result"
    }
   ],
   "source": [
    "ssO[0]"
   ]
  },
  {
   "cell_type": "code",
   "execution_count": 12,
   "metadata": {},
   "outputs": [],
   "source": [
    "# Parameters\n",
    "# The desired degree\n",
    "degree = 500\n",
    "\n",
    "omegaC = 1000.\n",
    "\n",
    "omegaCN = -omegaC\n",
    "\n",
    "ssO = np.array([35.35,22.15])\n",
    "ooO = np.array([0.557,1.936])\n",
    "\n",
    "ssL = np.array([0.0173,0.0246,0.0182])\n",
    "ooL = np.array([181,221,240])\n",
    "gammaL = np.array([20,20,20])\n",
    "\n",
    "temp = 0"
   ]
  },
  {
   "cell_type": "code",
   "execution_count": 13,
   "metadata": {},
   "outputs": [],
   "source": [
    "if (temp==0):\n",
    "    omegaCN=0.\n",
    "    wf = lambda x: 0.5*(supOhm5(ssO[0],ooO[0],x)+supOhm5(ssO[1],ooO[1],x)+asl(ssL[0],ooL[0],gammaL[0],x)\n",
    "    +asl(ssL[1],ooL[1],gammaL[1],x)+asl(ssL[2],ooL[2],gammaL[2],x)\n",
    "                 )\n",
    "else:\n",
    "    wf = lambda x: 0.5*(0.5 * (1. + 1. / np.tanh(0.5 * x * 1.4387773 / temp)) *\n",
    "                     supOhm5(ssO[0],ooO[0],x)+supOhm5(ssO[1],ooO[1],x)+asl(ssL[0],ooL[0],gammaL[0],x)\n",
    "    +asl(ssL[1],ooL[1],gammaL[1],x)+asl(ssL[2],ooL[2],gammaL[2],x)\n",
    "                     )"
   ]
  },
  {
   "cell_type": "code",
   "execution_count": 14,
   "metadata": {},
   "outputs": [],
   "source": [
    "jj= wf  \n",
    "#lambda x: coupling / np.power(np.sign(x), ss - 1) * np.power(x, ss) * np.exp(-1 * np.fabs(x) / cutoff)*0.5*(1.+ 1./np.tanh(0.5*x*1.4387773/temp))"
   ]
  },
  {
   "cell_type": "code",
   "execution_count": 16,
   "metadata": {},
   "outputs": [],
   "source": [
    "alphas,betas = rc.recurrenceCoefficients(degree,omegaCN,omegaC,jj,1.)"
   ]
  },
  {
   "cell_type": "code",
   "execution_count": 17,
   "metadata": {},
   "outputs": [],
   "source": [
    "omegas = np.array(alphas)\n",
    "coups = np.sqrt(betas)\n",
    "ts = np.sqrt(np.array(betas[1::]))\n",
    "c0 = np.sqrt(betas[0])"
   ]
  },
  {
   "cell_type": "code",
   "execution_count": 24,
   "metadata": {},
   "outputs": [
    {
     "data": {
      "text/plain": [
       "[<matplotlib.lines.Line2D at 0x7f928282bf40>]"
      ]
     },
     "execution_count": 24,
     "metadata": {},
     "output_type": "execute_result"
    },
    {
     "data": {
      "image/png": "[encoded data removed]",
      "text/plain": [
       "<Figure size 432x288 with 1 Axes>"
      ]
     },
     "metadata": {
      "needs_background": "light"
     },
     "output_type": "display_data"
    }
   ],
   "source": [
    "plt.plot(2*coups[0:100])\n",
    "plt.plot(omegas[0:100])\n"
   ]
  },
  {
   "cell_type": "code",
   "execution_count": 25,
   "metadata": {},
   "outputs": [
    {
     "data": {
      "text/plain": [
       "80.70813909201401"
      ]
     },
     "execution_count": 25,
     "metadata": {},
     "output_type": "execute_result"
    }
   ],
   "source": [
    "coups[0]"
   ]
  },
  {
   "cell_type": "code",
   "execution_count": 35,
   "metadata": {},
   "outputs": [
    {
     "data": {
      "text/plain": [
       "80.70813909192417"
      ]
     },
     "execution_count": 35,
     "metadata": {},
     "output_type": "execute_result"
    }
   ],
   "source": [
    "np.sqrt(sp.integrate.quad(jj,0,omegaC)[0]/np.pi)"
   ]
  },
  {
   "cell_type": "code",
   "execution_count": 20,
   "metadata": {},
   "outputs": [
    {
     "data": {
      "text/plain": [
       "(100.0, 120.0)"
      ]
     },
     "execution_count": 20,
     "metadata": {},
     "output_type": "execute_result"
    },
    {
     "data": {
      "image/png": "[encoded data removed]",
      "text/plain": [
       "<Figure size 432x288 with 1 Axes>"
      ]
     },
     "metadata": {
      "needs_background": "light"
     },
     "output_type": "display_data"
    }
   ],
   "source": [
    "plt.plot(ts)\n",
    "plt.ylim((4.99,5.01))\n",
    "plt.xlim((100,120))"
   ]
  },
  {
   "cell_type": "code",
   "execution_count": 36,
   "metadata": {},
   "outputs": [],
   "source": [
    "np.savetxt(\"WSCP_MC_T0_freqs.dat\",omegas)\n",
    "np.savetxt(\"WSCP_MC_T0_coups.dat\",coups)"
   ]
  }
 ],
 "metadata": {
  "interpreter": {
   "hash": "472a591a5ac1dc5461038f077f53b8b42154bdc31bedb27eac675951f5b4a0ef"
  },
  "kernelspec": {
   "display_name": "Python 3.9.5 64-bit ('pytedopa_env': conda)",
   "language": "python",
   "name": "python3"
  },
  "language_info": {
   "codemirror_mode": {
    "name": "ipython",
    "version": 3
   },
   "file_extension": ".py",
   "mimetype": "text/x-python",
   "name": "python",
   "nbconvert_exporter": "python",
   "pygments_lexer": "ipython3",
   "version": "3.9.5"
  },
  "orig_nbformat": 4
 },
 "nbformat": 4,
 "nbformat_minor": 2
}
