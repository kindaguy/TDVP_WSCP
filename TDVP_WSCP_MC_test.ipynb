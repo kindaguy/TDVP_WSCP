{
 "cells": [
  {
   "cell_type": "code",
   "execution_count": 1,
   "metadata": {},
   "outputs": [
    {
     "data": {
      "text/plain": [
       "createObs (generic function with 1 method)"
      ]
     },
     "execution_count": 1,
     "metadata": {},
     "output_type": "execute_result"
    }
   ],
   "source": [
    "using ITensors\n",
    "#import KrylovKit \n",
    "#using KrylovKit\n",
    "include(\"TamaTimeEvoMPS/src/TimeEvoMPS.jl\")\n",
    "using .TimeEvoMPS\n",
    "include(\"TDVP_lib.jl\")"
   ]
  },
  {
   "cell_type": "code",
   "execution_count": 2,
   "metadata": {},
   "outputs": [
    {
     "data": {
      "text/plain": [
       "138.0"
      ]
     },
     "execution_count": 2,
     "metadata": {},
     "output_type": "execute_result"
    }
   ],
   "source": [
    "using DelimitedFiles\n",
    "coups = readdlm(\"Chain_mappings/WSCP_MC_T0_coups.dat\");\n",
    "freqs = readdlm(\"Chain_mappings/WSCP_MC_T0_freqs.dat\");\n",
    "#system energy gap\n",
    "eps = 138."
   ]
  },
  {
   "cell_type": "code",
   "execution_count": 3,
   "metadata": {},
   "outputs": [],
   "source": [
    "sys = siteinds(\"S=1/2\",1);\n",
    "NChain = 86;\n",
    "env = siteinds(\"Boson\", dim=6, NChain);\n",
    "NN = NChain + 1;\n",
    "sysenv = vcat(sys,env);"
   ]
  },
  {
   "cell_type": "code",
   "execution_count": 4,
   "metadata": {},
   "outputs": [],
   "source": [
    "stateSys = [\"Up\"];\n",
    "stateEnv = [\"0\" for n=1:NChain];\n",
    "stateSE = vcat(stateSys,stateEnv);\n",
    "psi0 = productMPS(sysenv,stateSE);"
   ]
  },
  {
   "cell_type": "code",
   "execution_count": 5,
   "metadata": {},
   "outputs": [
    {
     "data": {
      "text/plain": [
       "87"
      ]
     },
     "execution_count": 5,
     "metadata": {},
     "output_type": "execute_result"
    }
   ],
   "source": [
    "length(sysenv)"
   ]
  },
  {
   "cell_type": "code",
   "execution_count": 6,
   "metadata": {},
   "outputs": [],
   "source": [
    "#asymptotic frequency\n",
    "MC_N = 6;\n",
    "NP_Chain = NN - MC_N;\n",
    "OO = 500.;\n",
    "alphas_MC = readdlm(\"MC_Pars/alphas_6.dat\")\n",
    "betas_MC = readdlm(\"MC_Pars/betas_6.dat\")\n",
    "coups_MC = readdlm(\"MC_Pars/coupls_6.dat\")\n",
    "gammas = OO * alphas_MC[:,1];\n",
    "eff_freq = [OO + 1im * g for g in gammas];\n",
    "eff_gs = OO * betas_MC[:,2];\n",
    "eff_coup = OO/2* (coups_MC[:,1]+ 1im *coups_MC[:,2]);\n"
   ]
  },
  {
   "cell_type": "code",
   "execution_count": 7,
   "metadata": {},
   "outputs": [
    {
     "data": {
      "text/plain": [
       "6-element Vector{Float64}:\n",
       " -0.015996917837743683\n",
       " -1.4774047320945315e-10\n",
       " -2.175194571396893\n",
       " -1.4354113522679461e-11\n",
       " -0.004791119501886285\n",
       " -1.5738622265225956e-9"
      ]
     },
     "execution_count": 7,
     "metadata": {},
     "output_type": "execute_result"
    }
   ],
   "source": [
    "readdlm(\"MC_Pars/alphas_6.dat\")[:,1]"
   ]
  },
  {
   "cell_type": "code",
   "execution_count": 8,
   "metadata": {},
   "outputs": [
    {
     "data": {
      "text/plain": [
       "21"
      ]
     },
     "execution_count": 8,
     "metadata": {},
     "output_type": "execute_result"
    }
   ],
   "source": [
    "NP_Chain"
   ]
  },
  {
   "cell_type": "code",
   "execution_count": 8,
   "metadata": {},
   "outputs": [],
   "source": [
    "#Lavoriamo qui\n",
    "ampo = OpSum()\n",
    "#system Hamiltonian\n",
    "ampo += eps,\"Sz\",1;\n",
    "#system-env interaction\n",
    "#!Sx = 0.5 σx\n",
    "ampo += 2*coups[1],\"Sx\",1,\"Adag\",2\n",
    "ampo += 2*coups[1],\"Sx\",1,\"A\",2\n",
    "\n",
    "#Primary chain local Hamiltonians\n",
    "for j=2:NP_Chain\n",
    "   ampo += freqs[j-1],\"N\",j\n",
    "end\n",
    "\n",
    "for j=2:NP_Chain-1\n",
    "   ampo += coups[j],\"A\",j,\"Adag\",j+1\n",
    "   ampo += coups[j],\"Adag\",j,\"A\",j+1\n",
    "end\n",
    "#################################\n",
    "\n",
    "#Markovian closure Hamiltonian\n",
    "for j=1:MC_N\n",
    "   ampo += eff_freq[j],\"N\",NP_Chain+j\n",
    "end\n",
    "\n",
    "for j=1:MC_N-1\n",
    "   ampo += eff_gs[j],\"A\",NP_Chain+j,\"Adag\",NP_Chain+j+1\n",
    "   ampo += eff_gs[j],\"Adag\",NP_Chain+j,\"A\",NP_Chain+j+1\n",
    "end\n",
    "\n",
    "#################################\n",
    "\n",
    "#Primary chain - MC interaction\n",
    "for j=1:MC_N\n",
    "   ampo += eff_coup[j],\"A\",NP_Chain,\"Adag\",NP_Chain+j\n",
    "   ampo += conj(eff_coup[j]),\"Adag\",NP_Chain,\"A\",NP_Chain+j\n",
    "end\n",
    "\n",
    "\n",
    "H = MPO(ampo,sysenv); "
   ]
  },
  {
   "cell_type": "code",
   "execution_count": 9,
   "metadata": {},
   "outputs": [],
   "source": [
    "[dim(linkind(H,j)) for j in 1:length(H)-1];"
   ]
  },
  {
   "cell_type": "code",
   "execution_count": 13,
   "metadata": {},
   "outputs": [],
   "source": [
    "vobs = []\n",
    "push!(vobs,opPos(\"Sx\",1))\n",
    "push!(vobs,opPos(\"Sz\",1))\n",
    "nchain = collect(10:10:80)\n",
    "for i in nchain \n",
    "   push!(vobs,opPos(\"N\",i+1))\n",
    "end"
   ]
  },
  {
   "cell_type": "code",
   "execution_count": 14,
   "metadata": {},
   "outputs": [
    {
     "data": {
      "text/plain": [
       "LocalMeasurementCallback\n",
       "Operators: opPos[opPos(\"Sx\", 1), opPos(\"Sz\", 1), opPos(\"N\", 11), opPos(\"N\", 21), opPos(\"N\", 31), opPos(\"N\", 41), opPos(\"N\", 51), opPos(\"N\", 61), opPos(\"N\", 71), opPos(\"N\", 81)]\n",
       "No measurements performed\n"
      ]
     },
     "execution_count": 14,
     "metadata": {},
     "output_type": "execute_result"
    }
   ],
   "source": [
    "psi=deepcopy(psi0)\n",
    "timestep = 0.0001\n",
    "tmax = 0.10\n",
    "cbT = LocalMeasurementCallbackTama(vobs,sysenv,10*timestep)"
   ]
  },
  {
   "cell_type": "code",
   "execution_count": 15,
   "metadata": {},
   "outputs": [
    {
     "name": "stderr",
     "output_type": "stream",
     "text": [
      "┌ Warning: ProgressMeter by default refresh meters with additional information in IJulia via `IJulia.clear_output`, which clears all outputs in the cell. \n",
      "│  - To prevent this behaviour, do `ProgressMeter.ijulia_behavior(:append)`. \n",
      "│  - To disable this warning message, do `ProgressMeter.ijulia_behavior(:clear)`.\n",
      "└ @ ProgressMeter /Users/tama/.julia/packages/ProgressMeter/sN2xr/src/ProgressMeter.jl:618\n",
      "\u001b[32mEvolving state...  10%|███▎                             |  ETA: 0:21:37\u001b[39m\n",
      "\u001b[34m  t:             0.01\u001b[39m\n",
      "\u001b[34m  dt step time:  1.535\u001b[39m\n",
      "\u001b[34m  Max bond-dim:  4\u001b[39m"
     ]
    },
    {
     "ename": "LoadError",
     "evalue": "InterruptException:",
     "output_type": "error",
     "traceback": [
      "InterruptException:",
      "",
      "Stacktrace:",
      "  [1] permutedims!!(R::NDTensors.DenseTensor{ComplexF64, 4, NTuple{4, Index{Int64}}, NDTensors.Dense{ComplexF64, Vector{ComplexF64}}}, T::NDTensors.DenseTensor{ComplexF64, 4, NTuple{4, Index{Int64}}, NDTensors.Dense{ComplexF64, Vector{ComplexF64}}}, perm::NTuple{4, Int64}, f::Function)",
      "    @ NDTensors ~/.julia/packages/NDTensors/hSwie/src/dense.jl:383",
      "  [2] _map!!(f::Function, R::NDTensors.DenseTensor{ComplexF64, 4, NTuple{4, Index{Int64}}, NDTensors.Dense{ComplexF64, Vector{ComplexF64}}}, T1::NDTensors.DenseTensor{ComplexF64, 4, NTuple{4, Index{Int64}}, NDTensors.Dense{ComplexF64, Vector{ComplexF64}}}, T2::NDTensors.DenseTensor{ComplexF64, 4, NTuple{4, Index{Int64}}, NDTensors.Dense{ComplexF64, Vector{ComplexF64}}})",
      "    @ ITensors ~/.julia/packages/ITensors/uvZHM/src/itensor.jl:2441",
      "  [3] map!(f::Function, R::ITensor, T1::ITensor, T2::ITensor)",
      "    @ ITensors ~/.julia/packages/ITensors/uvZHM/src/itensor.jl:2446",
      "  [4] copyto!",
      "    @ ~/.julia/packages/ITensors/uvZHM/src/broadcast.jl:353 [inlined]",
      "  [5] materialize!",
      "    @ ./broadcast.jl:894 [inlined]",
      "  [6] materialize!",
      "    @ ./broadcast.jl:891 [inlined]",
      "  [7] axpy!(a::ComplexF64, v::ITensor, w::ITensor)",
      "    @ ITensors ~/.julia/packages/ITensors/uvZHM/src/itensor.jl:2455",
      "  [8] reorthogonalize!(v::ITensor, b::KrylovKit.OrthonormalBasis{ITensor}, x::SubArray{ComplexF64, 1, Vector{ComplexF64}, Tuple{UnitRange{Int64}}, true}, #unused#::KrylovKit.ModifiedGramSchmidt)",
      "    @ KrylovKit ~/.julia/packages/KrylovKit/kWdb6/src/orthonormal.jl:463",
      "  [9] orthogonalize!(v::ITensor, b::KrylovKit.OrthonormalBasis{ITensor}, x::SubArray{ComplexF64, 1, Vector{ComplexF64}, Tuple{UnitRange{Int64}}, true}, #unused#::KrylovKit.ModifiedGramSchmidt2)",
      "    @ KrylovKit ~/.julia/packages/KrylovKit/kWdb6/src/orthonormal.jl:475",
      " [10] arnoldirecurrence!(operator::ProjMPO, V::KrylovKit.OrthonormalBasis{ITensor}, h::SubArray{ComplexF64, 1, Vector{ComplexF64}, Tuple{UnitRange{Int64}}, true}, orth::KrylovKit.ModifiedGramSchmidt2)",
      "    @ KrylovKit ~/.julia/packages/KrylovKit/kWdb6/src/factorizations/arnoldi.jl:236",
      " [11] expand!(iter::KrylovKit.ArnoldiIterator{ProjMPO, ITensor, KrylovKit.ModifiedGramSchmidt2}, state::KrylovKit.ArnoldiFactorization{ITensor, ComplexF64}; verbosity::Int64)",
      "    @ KrylovKit ~/.julia/packages/KrylovKit/kWdb6/src/factorizations/arnoldi.jl:206",
      " [12] expintegrator(A::ProjMPO, t::ComplexF64, u::Tuple{ITensor, ITensor}, alg::KrylovKit.Arnoldi{KrylovKit.ModifiedGramSchmidt2, Float64})",
      "    @ KrylovKit ~/.julia/packages/KrylovKit/kWdb6/src/matrixfun/expintegrator.jl:267",
      " [13] expintegrator",
      "    @ ~/.julia/packages/KrylovKit/kWdb6/src/matrixfun/expintegrator.jl:106 [inlined]",
      " [14] expintegrator(::ProjMPO, ::ComplexF64, ::ITensor; kwargs::Base.Iterators.Pairs{Symbol, Real, Tuple{Symbol, Symbol, Symbol}, NamedTuple{(:ishermitian, :tol, :krylovdim), Tuple{Bool, Float64, Int64}}})",
      "    @ KrylovKit ~/.julia/packages/KrylovKit/kWdb6/src/matrixfun/expintegrator.jl:102",
      " [15] #exponentiate#82",
      "    @ ~/.julia/packages/KrylovKit/kWdb6/src/matrixfun/exponentiate.jl:79 [inlined]",
      " [16] macro expansion",
      "    @ ~/Desktop/TamaITensor/TDVP/TamaTimeEvoMPS/src/tdvpMC.jl:140 [inlined]",
      " [17] macro expansion",
      "    @ ./timing.jl:287 [inlined]",
      " [18] tdvpMC!(psi::MPS, H::MPO, dt::Float64, tf::Float64; kwargs::Base.Iterators.Pairs{Symbol, Any, NTuple{8, Symbol}, NamedTuple{(:maxdim, :callback, :progress, :cutoff, :io_file, :store_psi0, :ranks_file, :times_file), Tuple{Int64, LocalMeasurementCallbackTama, Bool, Float64, String, Bool, String, String}}})",
      "    @ Main.TimeEvoMPS ~/Desktop/TamaITensor/TDVP/TamaTimeEvoMPS/src/tdvpMC.jl:134",
      " [19] top-level scope",
      "    @ In[15]:1",
      " [20] eval",
      "    @ ./boot.jl:360 [inlined]",
      " [21] include_string(mapexpr::typeof(REPL.softscope), mod::Module, code::String, filename::String)",
      "    @ Base ./loading.jl:1116"
     ]
    }
   ],
   "source": [
    "tdvpMC!(psi,H,timestep,tmax,maxdim=20,callback=cbT, progress=true,cutoff=10e-10,io_file=\"critico.dat\",store_psi0 = true,ranks_file = \"ranghi.dat\",times_file = \"times.dat\")"
   ]
  },
  {
   "cell_type": "markdown",
   "metadata": {},
   "source": [
    "## Plotting"
   ]
  },
  {
   "cell_type": "code",
   "execution_count": null,
   "metadata": {},
   "outputs": [
    {
     "data": {
      "image/png": "[encoded data removed]",
      "text/plain": [
       "Figure(PyObject <Figure size 640x480 with 1 Axes>)"
      ]
     },
     "metadata": {},
     "output_type": "display_data"
    },
    {
     "data": {
      "text/plain": [
       "PyObject Text(0.5, 24.0, 't')"
      ]
     },
     "metadata": {},
     "output_type": "display_data"
    }
   ],
   "source": [
    "using PyPlot\n",
    "ts = measurement_ts(cbT)\n",
    "for o in [\"Sx_1\",\"Sz_1\",\"N_10\",\"N_20\"]\n",
    "    S5 = getindex.(measurements(cbT)[\"$o\"],1)\n",
    "    plot(ts,S5,\"-o\",label=\"$o\")\n",
    "end\n",
    "legend()\n",
    "xlabel(\"t\")"
   ]
  },
  {
   "cell_type": "code",
   "execution_count": null,
   "metadata": {},
   "outputs": [
    {
     "data": {
      "text/plain": [
       "ITensor ord=3 (dim=1|id=231|\"Link,l=10\") (dim=6|id=8|\"Boson,Site,n=9\") (dim=1|id=461|\"Link,l=9\")\n",
       "ITensors.NDTensors.Dense{ComplexF64, Vector{ComplexF64}}"
      ]
     },
     "metadata": {},
     "output_type": "display_data"
    }
   ],
   "source": [
    "psi[10]"
   ]
  },
  {
   "cell_type": "code",
   "execution_count": 19,
   "metadata": {},
   "outputs": [
    {
     "data": {
      "text/plain": [
       "IOStream(<file prova_sampa.dat>)"
      ]
     },
     "execution_count": 19,
     "metadata": {},
     "output_type": "execute_result"
    }
   ],
   "source": []
  },
  {
   "cell_type": "code",
   "execution_count": 20,
   "metadata": {},
   "outputs": [
    {
     "data": {
      "text/plain": [
       "IOStream"
      ]
     },
     "execution_count": 20,
     "metadata": {},
     "output_type": "execute_result"
    }
   ],
   "source": [
    "typeof(io)"
   ]
  },
  {
   "cell_type": "code",
   "execution_count": 21,
   "metadata": {},
   "outputs": [],
   "source": [
    "using Printf"
   ]
  },
  {
   "cell_type": "code",
   "execution_count": 30,
   "metadata": {},
   "outputs": [],
   "source": [
    "io = open(\"prova_sampa.dat\",\"a\")\n",
    "@printf(io,\"%20s%20s%20s\\n\",\"tempo\",\"ciao\",\"mondo\")\n",
    "@printf(io,\"%20f%20f%20f\\n\",10,20,30)\n",
    "close(io)"
   ]
  },
  {
   "cell_type": "code",
   "execution_count": 27,
   "metadata": {},
   "outputs": [
    {
     "ename": "LoadError",
     "evalue": "IOError: unlink(\"./prova_stampa.dat\"): no such file or directory (ENOENT)",
     "output_type": "error",
     "traceback": [
      "IOError: unlink(\"./prova_stampa.dat\"): no such file or directory (ENOENT)",
      "",
      "Stacktrace:",
      " [1] uv_error",
      "   @ ./libuv.jl:97 [inlined]",
      " [2] unlink(p::String)",
      "   @ Base.Filesystem ./file.jl:934",
      " [3] rm(path::String; force::Bool, recursive::Bool)",
      "   @ Base.Filesystem ./file.jl:272",
      " [4] rm(path::String)",
      "   @ Base.Filesystem ./file.jl:263",
      " [5] top-level scope",
      "   @ In[27]:1",
      " [6] eval",
      "   @ ./boot.jl:360 [inlined]",
      " [7] include_string(mapexpr::typeof(REPL.softscope), mod::Module, code::String, filename::String)",
      "   @ Base ./loading.jl:1116"
     ]
    }
   ],
   "source": []
  },
  {
   "cell_type": "code",
   "execution_count": null,
   "metadata": {},
   "outputs": [],
   "source": []
  }
 ],
 "metadata": {
  "kernelspec": {
   "display_name": "Julia 1.6.2",
   "language": "julia",
   "name": "julia-1.6"
  },
  "language_info": {
   "file_extension": ".jl",
   "mimetype": "application/julia",
   "name": "julia",
   "version": "1.6.2"
  },
  "orig_nbformat": 4
 },
 "nbformat": 4,
 "nbformat_minor": 2
}
