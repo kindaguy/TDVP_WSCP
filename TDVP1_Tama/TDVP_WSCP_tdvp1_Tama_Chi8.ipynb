{
 "cells": [
  {
   "cell_type": "code",
   "execution_count": 2,
   "metadata": {},
   "outputs": [
    {
     "name": "stderr",
     "output_type": "stream",
     "text": [
      "\u001b[32m\u001b[1m  Activating\u001b[22m\u001b[39m environment at `~/Desktop/TamaITensor/TDVP/TDVP1_Tama/Project.toml`\n"
     ]
    },
    {
     "data": {
      "text/plain": [
       "stretchBondDim (generic function with 1 method)"
      ]
     },
     "metadata": {},
     "output_type": "display_data"
    }
   ],
   "source": [
    "using Pkg\n",
    "Pkg.activate(\".\")\n",
    "using ITensors\n",
    "using DelimitedFiles\n",
    "using TimeEvoMPS\n",
    "include(\"TDVP_lib.jl\")\n",
    "#import KrylovKit \n",
    "#using KrylovKit\n",
    "# include(\"TamaTimeEvoMPS/src/TimeEvoMPS.jl\")\n",
    "# using .TimeEvoMPS"
   ]
  },
  {
   "cell_type": "code",
   "execution_count": 3,
   "metadata": {},
   "outputs": [
    {
     "data": {
      "text/plain": [
       "138.0"
      ]
     },
     "metadata": {},
     "output_type": "display_data"
    }
   ],
   "source": [
    "coups = readdlm(\"../Chain_mappings/WSCP_MC_T0_coups.dat\");\n",
    "freqs = readdlm(\"../Chain_mappings/WSCP_MC_T0_freqs.dat\");\n",
    "#system energy gap\n",
    "eps = 138."
   ]
  },
  {
   "cell_type": "code",
   "execution_count": 4,
   "metadata": {},
   "outputs": [],
   "source": [
    "sys = siteinds(\"S=1/2\",1);\n",
    "NChain = 86;\n",
    "env = siteinds(\"Boson\", dim=6, NChain);\n",
    "NN = NChain + 1;\n",
    "sysenv = vcat(sys,env);"
   ]
  },
  {
   "cell_type": "code",
   "execution_count": 5,
   "metadata": {},
   "outputs": [
    {
     "name": "stdout",
     "output_type": "stream",
     "text": [
      "Sys-env total length: 87\n"
     ]
    }
   ],
   "source": [
    "stateSys = [\"Up\"];\n",
    "stateEnv = [\"0\" for n=1:NChain];\n",
    "stateSE = vcat(stateSys,stateEnv);\n",
    "psi0 = productMPS(sysenv,stateSE);\n",
    "println(\"Sys-env total length: \",length(sysenv))"
   ]
  },
  {
   "cell_type": "code",
   "execution_count": 6,
   "metadata": {},
   "outputs": [
    {
     "name": "stdout",
     "output_type": "stream",
     "text": [
      "1.0\n"
     ]
    }
   ],
   "source": [
    "psi0,over = stretchBondDim(psi0,Int(8));\n",
    "println(over)"
   ]
  },
  {
   "cell_type": "markdown",
   "metadata": {},
   "source": [
    "We define a trivial Hamiltonian to use as to set the initial bond dimension of the MPS to the desired size (mindim)"
   ]
  },
  {
   "cell_type": "code",
   "execution_count": 7,
   "metadata": {},
   "outputs": [],
   "source": [
    "# #Lavoriamo qui\n",
    "# ampo = OpSum()\n",
    "# #system Hamiltonian\n",
    "\n",
    "# for j=1:length(sysenv)\n",
    "#    ampo += 0.001, \"Id\",j\n",
    "# end\n",
    "# H = MPO(ampo,sysenv); \n",
    "# appoPsi = copy(psi0);\n",
    "# tdvp!(appoPsi,H,0.00001,0.00001,mindim = 8, maxdim=20, progress=true,cutoff=10e-20)\n",
    "\n",
    "# wantedDim = 8\n",
    "# psiExt = copy(psi0);\n",
    "# for n in 1:NN-1\n",
    "#    a = commonind(psiExt[n],psiExt[n+1])\n",
    "#    tagsa = tags(a)\n",
    "#    add_indx = Index(wantedDim, tags= tagsa)\n",
    "#    psiExt[n]=psiExt[n]*delta(a,add_indx)\n",
    "#    psiExt[n+1]=psiExt[n+1]*delta(a,add_indx)\n",
    "# end\n",
    "# println(\"Overlap <original|extended> states: \", dot(psi0,psiExt));\n",
    "# psi0=copy(psiExt);"
   ]
  },
  {
   "cell_type": "markdown",
   "metadata": {},
   "source": [
    "# Set Markovian closure parameters + define total Hamiltonian (MPO)"
   ]
  },
  {
   "cell_type": "code",
   "execution_count": 6,
   "metadata": {},
   "outputs": [],
   "source": [
    "#asymptotic frequency\n",
    "MC_N = 6;\n",
    "NP_Chain = NN - MC_N;\n",
    "OO = 500.;\n",
    "alphas_MC = readdlm(\"../MC_Pars/alphas_6.dat\")\n",
    "betas_MC = readdlm(\"../MC_Pars/betas_6.dat\")\n",
    "coups_MC = readdlm(\"../MC_Pars/coupls_6.dat\")\n",
    "gammas = OO * alphas_MC[:,1];\n",
    "eff_freq = [OO + 1im * g for g in gammas];\n",
    "eff_gs = OO * betas_MC[:,2];\n",
    "eff_coup = OO/2* (coups_MC[:,1]+ 1im *coups_MC[:,2]);\n",
    "\n",
    "#Definition of the TEDOPA+MC Hamiltonian (MPO form)\n",
    "#Lavoriamo qui\n",
    "ampo = OpSum()\n",
    "#system Hamiltonian\n",
    "ampo += eps,\"Sz\",1;\n",
    "#system-env interaction\n",
    "#!Sx = 0.5 σx\n",
    "ampo += 2*coups[1],\"Sx\",1,\"Adag\",2\n",
    "ampo += 2*coups[1],\"Sx\",1,\"A\",2\n",
    "\n",
    "#Primary chain local Hamiltonians\n",
    "for j=2:NP_Chain\n",
    "   ampo += freqs[j-1],\"N\",j\n",
    "end\n",
    "\n",
    "for j=2:NP_Chain-1\n",
    "   ampo += coups[j],\"A\",j,\"Adag\",j+1\n",
    "   ampo += coups[j],\"Adag\",j,\"A\",j+1\n",
    "end\n",
    "#################################\n",
    "\n",
    "#Markovian closure Hamiltonian\n",
    "for j=1:MC_N\n",
    "   ampo += eff_freq[j],\"N\",NP_Chain+j\n",
    "end\n",
    "\n",
    "for j=1:MC_N-1\n",
    "   ampo += eff_gs[j],\"A\",NP_Chain+j,\"Adag\",NP_Chain+j+1\n",
    "   ampo += eff_gs[j],\"Adag\",NP_Chain+j,\"A\",NP_Chain+j+1\n",
    "end\n",
    "\n",
    "#################################\n",
    "\n",
    "#Primary chain - MC interaction\n",
    "for j=1:MC_N\n",
    "   ampo += eff_coup[j],\"A\",NP_Chain,\"Adag\",NP_Chain+j\n",
    "   ampo += conj(eff_coup[j]),\"Adag\",NP_Chain,\"A\",NP_Chain+j\n",
    "end\n",
    "\n",
    "\n",
    "H = MPO(ampo,sysenv); \n",
    "\n",
    "#Set MPO bond dimensions\n",
    "[dim(linkind(H,j)) for j in 1:length(H)-1];"
   ]
  },
  {
   "cell_type": "code",
   "execution_count": 7,
   "metadata": {},
   "outputs": [
    {
     "data": {
      "text/plain": [
       "81"
      ]
     },
     "metadata": {},
     "output_type": "display_data"
    }
   ],
   "source": [
    "NP_Chain"
   ]
  },
  {
   "cell_type": "code",
   "execution_count": 16,
   "metadata": {},
   "outputs": [],
   "source": [
    "vobs = []\n",
    "push!(vobs,opPos(\"Sx\",1))\n",
    "push!(vobs,opPos(\"Sz\",1))\n",
    "nchain = collect(10:10:80)\n",
    "for i in nchain \n",
    "   push!(vobs,opPos(\"N\",i+1))\n",
    "end\n",
    "for i in 81:87\n",
    "   push!(vobs,opPos(\"N\",i))\n",
    "end"
   ]
  },
  {
   "cell_type": "code",
   "execution_count": 24,
   "metadata": {},
   "outputs": [
    {
     "data": {
      "text/plain": [
       "LocalMeasurementCallback\n",
       "Operators: opPos[opPos(\"Sx\", 1), opPos(\"Sz\", 1), opPos(\"N\", 11), opPos(\"N\", 21), opPos(\"N\", 31), opPos(\"N\", 41), opPos(\"N\", 51), opPos(\"N\", 61), opPos(\"N\", 71), opPos(\"N\", 81), opPos(\"N\", 81), opPos(\"N\", 82), opPos(\"N\", 83), opPos(\"N\", 84), opPos(\"N\", 85), opPos(\"N\", 86), opPos(\"N\", 87)]\n",
       "No measurements performed\n"
      ]
     },
     "metadata": {},
     "output_type": "display_data"
    }
   ],
   "source": [
    "psi=deepcopy(psi0)\n",
    "timestep = 0.0001\n",
    "tmax = 0.5\n",
    "cbT = LocalMeasurementCallbackTama(vobs,sysenv,10*timestep)"
   ]
  },
  {
   "cell_type": "code",
   "execution_count": 25,
   "metadata": {},
   "outputs": [
    {
     "data": {
      "text/plain": [
       "1.0"
      ]
     },
     "metadata": {},
     "output_type": "display_data"
    }
   ],
   "source": [
    "norm(psi)"
   ]
  },
  {
   "cell_type": "code",
   "execution_count": 26,
   "metadata": {},
   "outputs": [],
   "source": [
    "tdvp1!(psi,H,timestep,tmax, hermitian = false, normalize = false, callback=cbT, progress=false, krylovdim = 10, exp_tol = 10e-10, io_file=\"critico.dat\",store_psi0 = true,io_ranks = \"ranghi.dat\",io_times = \"times.dat\")"
   ]
  },
  {
   "cell_type": "code",
   "execution_count": null,
   "metadata": {},
   "outputs": [],
   "source": [
    "dot(psi0,psi)"
   ]
  },
  {
   "cell_type": "markdown",
   "metadata": {},
   "source": [
    "## Plotting"
   ]
  },
  {
   "cell_type": "code",
   "execution_count": null,
   "metadata": {},
   "outputs": [],
   "source": [
    "using PyPlot\n",
    "ts = measurement_ts(cbT)\n",
    "for o in [\"Sx_1\",\"Sz_1\",\"N_10\",\"N_20\"]\n",
    "    S5 = getindex.(measurements(cbT)[\"$o\"],1)\n",
    "    plot(ts,S5,\"-o\",label=\"$o\")\n",
    "end\n",
    "legend()\n",
    "xlabel(\"t\")"
   ]
  },
  {
   "cell_type": "code",
   "execution_count": null,
   "metadata": {},
   "outputs": [],
   "source": [
    "psi[10]"
   ]
  },
  {
   "cell_type": "code",
   "execution_count": null,
   "metadata": {},
   "outputs": [],
   "source": []
  },
  {
   "cell_type": "code",
   "execution_count": null,
   "metadata": {},
   "outputs": [],
   "source": [
    "typeof(io)"
   ]
  },
  {
   "cell_type": "code",
   "execution_count": null,
   "metadata": {},
   "outputs": [],
   "source": [
    "using Printf"
   ]
  },
  {
   "cell_type": "code",
   "execution_count": null,
   "metadata": {},
   "outputs": [],
   "source": [
    "io = open(\"prova_sampa.dat\",\"a\")\n",
    "@printf(io,\"%20s%20s%20s\\n\",\"tempo\",\"ciao\",\"mondo\")\n",
    "@printf(io,\"%20f%20f%20f\\n\",10,20,30)\n",
    "close(io)"
   ]
  },
  {
   "cell_type": "code",
   "execution_count": null,
   "metadata": {},
   "outputs": [],
   "source": []
  },
  {
   "cell_type": "code",
   "execution_count": null,
   "metadata": {},
   "outputs": [],
   "source": []
  }
 ],
 "metadata": {
  "kernelspec": {
   "display_name": "Julia 1.6.2",
   "language": "julia",
   "name": "julia-1.6"
  },
  "language_info": {
   "file_extension": ".jl",
   "mimetype": "application/julia",
   "name": "julia",
   "version": "1.6.2"
  },
  "orig_nbformat": 4
 },
 "nbformat": 4,
 "nbformat_minor": 2
}
