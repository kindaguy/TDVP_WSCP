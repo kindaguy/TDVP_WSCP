{
 "cells": [
  {
   "cell_type": "code",
   "execution_count": 1,
   "metadata": {},
   "outputs": [],
   "source": [
    "using ITensors\n",
    "import KrylovKit \n",
    "#using KrylovKit"
   ]
  },
  {
   "cell_type": "markdown",
   "metadata": {},
   "source": [
    "We start by defining the open quantum system Hamiltonian.\n",
    "$$H = H_S +H_E + H_{SE}$$\n",
    "with \n",
    "$$H_S = \\frac{\\epsilon}{2} \\sigma_z$$\n",
    "$$H_E = \\int_{\\omega_{min}}^{\\omega_{max}} \\text{d}\\omega \\ \\omega a_\\omega^\\dagger a_\\omega$$\n",
    "$$H_{SE} = \\sigma_x \\int_{\\omega_{min}}^{\\omega_{max}} \\text{d}\\omega \\ \\sqrt{J(\\omega)}(a_\\omega^\\dagger +a_\\omega)$$"
   ]
  },
  {
   "cell_type": "markdown",
   "metadata": {},
   "source": [
    "The function $J(\\omega)$ is the spectral density, determining the interaction strength between the system and the envirnomental modes.\n",
    "\n",
    "Here and in what follows we will assume the system to be in the a factorized pure initial state $\\ket{\\psi(0)}_S \\otimes \\ket{0}_E$, where $\\ket{0}_E$ is the vacuum state of the environment, i.e. with each of the environmental modes in the vacuum."
   ]
  },
  {
   "cell_type": "markdown",
   "metadata": {},
   "source": [
    "\n",
    "The environment is unitarily reshaped into an equivalent chain of transformed modes $b_j^{(\\dagger)}$ satisfying the canonical commutation relation $[b_i,b_j^\\dagger]=\\delta_{i,j}$ with nearest-neighbor interaction. The system interacts only with the first site of the chain. $H_E$ and $H_{SE}$ become\n",
    "\n",
    "$$H_E = \\sum_{j=1}^{N-1} \\kappa_j (b_{j+1}^\\dagger b_j + b_{j}^\\dagger b_{j+1}) + \\sum_{j=1}^N \\omega_j b_j^\\dagger b_j $$\n",
    "$$H_{SE} = \\kappa_0 \\sigma_x (b_j^\\dagger+b_j)$$\n",
    "\n",
    "The coefficients $\\kappa_j$ and $\\omega_j$ are derived using orthogonal polynomials.\n",
    "\n",
    "The unitary identity between the original and the transformed environment Hamiltonian $H_E$ holding only in the limit $N \\to \\infty$. In practice, $N < \\infty$, and the value of $N$ is set as to have practical equivalence up to a simulation time $t_\\text{max} = f(N)$. "
   ]
  },
  {
   "cell_type": "markdown",
   "metadata": {},
   "source": [
    "We load such coefficients from files, which have been produced somewhere else (old, trusty, PyOrthpol). "
   ]
  },
  {
   "cell_type": "markdown",
   "metadata": {},
   "source": []
  },
  {
   "cell_type": "code",
   "execution_count": 2,
   "metadata": {},
   "outputs": [
    {
     "data": {
      "text/plain": [
       "1.0"
      ]
     },
     "execution_count": 2,
     "metadata": {},
     "output_type": "execute_result"
    }
   ],
   "source": [
    "using DelimitedFiles\n",
    "coups = readdlm(\"ohmic_1.0_c_1.0_T_77.0_coups.dat\");\n",
    "freqs = readdlm(\"ohmic_1.0_c_1.0_T_77.0_freqs.dat\");\n",
    "#system energy gap\n",
    "eps = 1."
   ]
  },
  {
   "cell_type": "code",
   "execution_count": 3,
   "metadata": {},
   "outputs": [],
   "source": [
    "sys = siteinds(\"S=1/2\",1);\n",
    "NChain = 100;\n",
    "env = siteinds(\"Boson\", dim=5, NChain);\n",
    "NN = NChain + 1;\n",
    "sysenv = vcat(sys,env);"
   ]
  },
  {
   "cell_type": "code",
   "execution_count": 4,
   "metadata": {},
   "outputs": [],
   "source": [
    "stateSys = [\"Up\"];\n",
    "stateEnv = [\"0\" for n=1:NChain];\n",
    "stateSE = vcat(stateSys,stateEnv);\n",
    "psi0 = productMPS(sysenv,stateSE);"
   ]
  },
  {
   "cell_type": "code",
   "execution_count": 5,
   "metadata": {},
   "outputs": [],
   "source": [
    "ampo = OpSum()\n",
    "#system Hamiltonian\n",
    "ampo += eps,\"Sz\",1;\n",
    "#system-env interaction\n",
    "#!Sx = 0.5 σx\n",
    "ampo += 2*coups[1],\"Sx\",1,\"Adag\",2\n",
    "ampo += 2*coups[1],\"Sx\",1,\"A\",2\n",
    "#chain local Hamiltonians\n",
    "for j=2:NChain\n",
    "   ampo += freqs[j-1],\"N\",j\n",
    "end\n",
    "\n",
    "for j=2:NChain-1\n",
    "   ampo += coups[j],\"A\",j,\"Adag\",j+1\n",
    "   ampo += coups[j],\"Adag\",j,\"A\",j+1\n",
    "end\n",
    "H = MPO(ampo,sysenv); "
   ]
  },
  {
   "cell_type": "markdown",
   "metadata": {},
   "source": [
    "We have created the MPO for the open system+chain system.\n",
    "\n",
    "Now we need to turn to the most difficult part, namely the implementation of the TDVP algorithm. While it would be best to start by the single site version, we exploit Lucas notes to try an implementation of the two-site version. This will be a pain in the ars, but here we are...."
   ]
  },
  {
   "cell_type": "markdown",
   "metadata": {},
   "source": [
    "## Fundamental steps"
   ]
  },
  {
   "cell_type": "markdown",
   "metadata": {},
   "source": [
    "1. Prepare the structure to efficiently compute the effective Hamitonians"
   ]
  },
  {
   "cell_type": "code",
   "execution_count": 6,
   "metadata": {},
   "outputs": [
    {
     "data": {
      "text/plain": [
       "(2, 0, 102)"
      ]
     },
     "execution_count": 6,
     "metadata": {},
     "output_type": "execute_result"
    }
   ],
   "source": [
    "#initialize the structure needed to efficiently compute effective Hamiltonians\n",
    "PH = ProjMPO(H);\n",
    "#Some info...\n",
    "#PH.nsite,  PH.lpos,  PH.rpos"
   ]
  },
  {
   "cell_type": "markdown",
   "metadata": {},
   "source": [
    "2. Set the orthogonality center of the MPS to the first site."
   ]
  },
  {
   "cell_type": "code",
   "execution_count": 18,
   "metadata": {},
   "outputs": [
    {
     "data": {
      "text/plain": [
       "ITensor ord=3 (dim=2|id=387|\"S=1/2,Site,n=1\") (dim=5|id=529|\"Boson,Site,n=1\") (dim=1|id=428|\"Link,l=2\")\n",
       "ITensors.NDTensors.Dense{Float64, Vector{Float64}}"
      ]
     },
     "execution_count": 18,
     "metadata": {},
     "output_type": "execute_result"
    }
   ],
   "source": [
    "#Set the orthogonality center to site 1 \n",
    "orthogonalize!(psi0, 1);\n",
    "#compute the first 2-site tensor A[1]\n",
    "phi = psi0[1]*psi0[2]"
   ]
  },
  {
   "cell_type": "markdown",
   "metadata": {},
   "source": [
    "3. Compute the effective Hamiltonian for leaving the first two tensors out of the projection"
   ]
  },
  {
   "cell_type": "code",
   "execution_count": 9,
   "metadata": {},
   "outputs": [],
   "source": [
    "\n",
    "#Compute the effective Hamiltonian for the first two sites.\n",
    "position!(PH,psi0,1);"
   ]
  },
  {
   "cell_type": "markdown",
   "metadata": {},
   "source": []
  },
  {
   "cell_type": "markdown",
   "metadata": {},
   "source": [
    "4. Apply the exponential of the effective Hamiltonian computed at step 3 to T[1] = A[1]*A[2]"
   ]
  },
  {
   "cell_type": "code",
   "execution_count": 16,
   "metadata": {},
   "outputs": [
    {
     "data": {
      "text/plain": [
       "(ITensor ord=3\n",
       "Dim 1: (dim=2|id=387|\"S=1/2,Site,n=1\")\n",
       "Dim 2: (dim=5|id=529|\"Boson,Site,n=1\")\n",
       "Dim 3: (dim=1|id=428|\"Link,l=2\")\n",
       "ITensors.NDTensors.Dense{Float64, Vector{Float64}}\n",
       " 2×5×1\n",
       "[:, :, 1] =\n",
       " 1.240187265414691  0.0                …  0.026894099232780962\n",
       " 0.0                0.693086435557106     0.0, ConvergenceInfo: one converged value after 1 iterations and 7 applications of the linear map;\n",
       "norms of residuals are given by (1.909599011510105e-37,).\n",
       ")"
      ]
     },
     "execution_count": 16,
     "metadata": {},
     "output_type": "execute_result"
    }
   ],
   "source": [
    "\n",
    "# vals, vecs = eigsolve(\n",
    "#             PH,\n",
    "#             phi,\n",
    "#             1\n",
    "#             );\n",
    "#Here the magic. All the methond in KrylovKit require the linear map to be\n",
    "#explicitly defined (matrix), or implicitly defined.\n",
    "#The overloading of the () operator has done the trick....\n",
    "KrylovKit.exponentiate(PH,0.1,phi,tol=1e-12)"
   ]
  },
  {
   "cell_type": "markdown",
   "metadata": {},
   "source": [
    "## Otherwise...god bless Ori!"
   ]
  },
  {
   "cell_type": "code",
   "execution_count": 21,
   "metadata": {},
   "outputs": [],
   "source": [
    "using TimeEvoMPS"
   ]
  },
  {
   "cell_type": "code",
   "execution_count": 43,
   "metadata": {},
   "outputs": [
    {
     "data": {
      "text/plain": [
       "1-element Vector{Index{Int64}}:\n",
       " (dim=2|id=387|\"S=1/2,Site,n=1\")"
      ]
     },
     "execution_count": 43,
     "metadata": {},
     "output_type": "execute_result"
    }
   ],
   "source": [
    "sysenv[1:1]"
   ]
  },
  {
   "cell_type": "code",
   "execution_count": 48,
   "metadata": {},
   "outputs": [
    {
     "data": {
      "text/plain": [
       "LocalMeasurementCallback\n",
       "Operators: [\"N\"]\n",
       "No measurements performed\n"
      ]
     },
     "execution_count": 48,
     "metadata": {},
     "output_type": "execute_result"
    }
   ],
   "source": [
    "cb = LocalMeasurementCallback([\"N\"], sysenv,0.01)"
   ]
  },
  {
   "cell_type": "code",
   "execution_count": 49,
   "metadata": {},
   "outputs": [
    {
     "data": {
      "text/plain": [
       "LocalMeasurementCallback\n",
       "Operators: [\"N\"]\n",
       "No measurements performed\n"
      ]
     },
     "execution_count": 49,
     "metadata": {},
     "output_type": "execute_result"
    }
   ],
   "source": [
    "cb"
   ]
  },
  {
   "cell_type": "code",
   "execution_count": 50,
   "metadata": {},
   "outputs": [
    {
     "ename": "LoadError",
     "evalue": "ArgumentError: Overload of \"op\" or \"op!\" functions not found for operator name \"N\" and Index tags: \"S=1/2,Site,n=1\")",
     "output_type": "error",
     "traceback": [
      "ArgumentError: Overload of \"op\" or \"op!\" functions not found for operator name \"N\" and Index tags: \"S=1/2,Site,n=1\")",
      "",
      "Stacktrace:",
      "  [1] op(name::String, s::Index{Int64}; kwargs::Base.Iterators.Pairs{Union{}, Union{}, Tuple{}, NamedTuple{(), Tuple{}}})",
      "    @ ITensors ~/.julia/packages/ITensors/2Xz5q/src/physics/sitetype.jl:323",
      "  [2] op",
      "    @ ~/.julia/packages/ITensors/2Xz5q/src/physics/sitetype.jl:221 [inlined]",
      "  [3] #op#907",
      "    @ ~/.julia/packages/ITensors/2Xz5q/src/physics/sitetype.jl:355 [inlined]",
      "  [4] op",
      "    @ ~/.julia/packages/ITensors/2Xz5q/src/physics/sitetype.jl:355 [inlined]",
      "  [5] #op#912",
      "    @ ~/.julia/packages/ITensors/2Xz5q/src/physics/sitetype.jl:369 [inlined]",
      "  [6] op(s::Vector{Index{Int64}}, opname::String, ns::Int64)",
      "    @ ITensors ~/.julia/packages/ITensors/2Xz5q/src/physics/sitetype.jl:369",
      "  [7] measure_localops!(cb::LocalMeasurementCallback, wf::ITensor, i::Int64)",
      "    @ TimeEvoMPS ~/.julia/packages/TimeEvoMPS/6LpE1/src/callback.jl:69",
      "  [8] apply!(cb::LocalMeasurementCallback, psi::MPS; t::Float64, sweepend::Bool, sweepdir::String, bond::Int64, alg::TimeEvoMPS.TDVP2, kwargs::Base.Iterators.Pairs{Symbol, Spectrum{Nothing}, Tuple{Symbol}, NamedTuple{(:spec,), Tuple{Spectrum{Nothing}}}})",
      "    @ TimeEvoMPS ~/.julia/packages/TimeEvoMPS/6LpE1/src/callback.jl:94",
      "  [9] macro expansion",
      "    @ ~/.julia/packages/TimeEvoMPS/6LpE1/src/tdvp.jl:67 [inlined]",
      " [10] macro expansion",
      "    @ ./timing.jl:287 [inlined]",
      " [11] tdvp!(psi::MPS, H::MPO, dt::Float64, tf::Float64; kwargs::Base.Iterators.Pairs{Symbol, Any, Tuple{Symbol, Symbol}, NamedTuple{(:maxdim, :callback), Tuple{Int64, LocalMeasurementCallback}}})",
      "    @ TimeEvoMPS ~/.julia/packages/TimeEvoMPS/6LpE1/src/tdvp.jl:55",
      " [12] top-level scope",
      "    @ In[50]:1",
      " [13] eval",
      "    @ ./boot.jl:360 [inlined]",
      " [14] include_string(mapexpr::typeof(REPL.softscope), mod::Module, code::String, filename::String)",
      "    @ Base ./loading.jl:1116"
     ]
    }
   ],
   "source": [
    "tdvp!(psi0,H,0.01,0.5,maxdim=20,callback=cb)"
   ]
  },
  {
   "cell_type": "code",
   "execution_count": 38,
   "metadata": {},
   "outputs": [],
   "source": [
    "psi0;"
   ]
  },
  {
   "cell_type": "code",
   "execution_count": 32,
   "metadata": {},
   "outputs": [
    {
     "data": {
      "text/plain": [
       "0.05065687462525856 + 0.0im"
      ]
     },
     "execution_count": 32,
     "metadata": {},
     "output_type": "execute_result"
    }
   ],
   "source": [
    "psi = psi0;\n",
    "orthogonalize!(psi,1);\n",
    "psidag = dag(prime(psi[1],\"Site\"));\n",
    "scalar(psidag*op(sysenv,\"Sz\",1)*psi[1])"
   ]
  },
  {
   "cell_type": "code",
   "execution_count": 37,
   "metadata": {},
   "outputs": [
    {
     "data": {
      "text/plain": [
       "1-element Vector{Index{Int64}}:\n",
       " (dim=2|id=387|\"S=1/2,Site,n=1\")"
      ]
     },
     "execution_count": 37,
     "metadata": {},
     "output_type": "execute_result"
    }
   ],
   "source": [
    "using PyPlot\n",
    "ts = measurement_ts(cb)\n",
    "for o in [\"x\",\"y\",\"z\"]\n",
    "    S5 = getindex.(measurements(cb)[\"S$o\"],1)\n",
    "    plot(ts,S5,\"-o\",label=\"\\$S^$(o)_5\\$\")\n",
    "end\n",
    "legend()\n",
    "xlabel(\"t\")"
   ]
  },
  {
   "cell_type": "code",
   "execution_count": null,
   "metadata": {},
   "outputs": [],
   "source": []
  }
 ],
 "metadata": {
  "kernelspec": {
   "display_name": "Julia 1.6.2",
   "language": "julia",
   "name": "julia-1.6"
  },
  "language_info": {
   "file_extension": ".jl",
   "mimetype": "application/julia",
   "name": "julia",
   "version": "1.6.2"
  },
  "orig_nbformat": 4
 },
 "nbformat": 4,
 "nbformat_minor": 2
}
